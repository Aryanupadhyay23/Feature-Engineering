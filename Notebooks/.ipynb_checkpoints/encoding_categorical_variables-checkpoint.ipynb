{
 "cells": [
  {
   "cell_type": "markdown",
   "metadata": {
    "id": "GS5XcySVoXtc"
   },
   "source": [
    "What is Feature Engineering ?\n",
    "\n",
    "Feature engineering is a crucial step in the data pre-processing phase of machine learning, where data scientists and machine learning engineers create new features or modify existing ones to improve the performance of machine learning models. The goal of feature engineering is to provide the model with informative, non-redundant, and interpretable data that captures the underlying structure of the dataset. This process can significantly enhance model accuracy and performance by leveraging domain knowledge and mathematical transformations.\n",
    "\n",
    "Key Aspects of Feature Engineering Include:\n",
    "\n",
    "1. Creation of New Features: Involves generating new features from the existing data, which might be more relevant to the prediction task. This could include combining two or more features, extracting parts of a date-time stamp (like the day of the week, month, or year), or creating interaction terms that capture the relationship between different variables.\n",
    "\n",
    "2. Feature Transformation: Applying transformations to features to change their distribution or scale. Common transformations include normalization, standardization, log transformation, and power transformations. These are especially important for algorithms that assume data is normally distributed or algorithms sensitive to the scale of features, like k-nearest Neighbors (KNN) and gradient descent-based algorithms.\n",
    "\n",
    "3. Feature Selection: Identifying the most relevant features to use in model training. This involves removing irrelevant, redundant, or noisy data that can detract from model performance. Techniques for feature selection include filter methods, wrapper methods, and embedded methods.\n",
    "\n",
    "4. Feature Extraction: Techniques like Principal Component Analysis (PCA), Linear Discriminant Analysis (LDA), and t-distributed Stochastic Neighbour Embedding (t-SNE) are used to reduce the number of features in a dataset while retaining as much of the variance in the data as possible. This is particularly useful for high-dimensional data.\n",
    "\n",
    "5. Handling Missing Values: Developing strategies for dealing with missing data, such as imputation (filling in missing values with the mean, median, mode, or using more complex algorithms), or creating binary indicators that signal whether data was missing.\n",
    "\n",
    "6. Encoding Categorical Variables: Converting categorical variables into a form that can be provided to ML models to improve performance. This includes using techniques like one-hot encoding, label encoding, and target encoding.\n",
    "\n",
    "7. Working with different modalities: Feature engineering also includes applying all the above techniques to different modalities of data like temporal, textual and geospatial data.\n",
    "\n",
    "Feature engineering is often considered more of an art than a science, requiring creativity, intuition, and domain knowledge. The quality and relevance of the features used can often make a more significant difference in the performance of a machine learning model than the choice of model itself. It enables models to learn better from the data, leading to more accurate predictions."
   ]
  },
  {
   "cell_type": "markdown",
   "metadata": {
    "id": "79cc7a12"
   },
   "source": [
    "Feature encoding is a crucial step in machine learning that transforms categorical data into a numerical format. This is essential because most machine learning algorithms require numerical input. By encoding categorical features, we convert them into a representation that preserves their information while making them compatible with these algorithms. Common encoding techniques include ordinal encoding, one-hot encoding, target encoding, and frequency encoding."
   ]
  },
  {
   "cell_type": "markdown",
   "metadata": {
    "id": "3e984764"
   },
   "source": [
    "Second is **Discretization**, in which we take continuous numerical data and convert it into categorical form by dividing it into bins. This process is also called **Binning**.\n",
    "\n",
    "Third, we will also learn to encode the target feature or output column using techniques like Label Encoding, Label Binarizer, and MultiLabel Binarizer."
   ]
  },
  {
   "cell_type": "markdown",
   "metadata": {
    "id": "fb179311"
   },
   "source": [
    "Machine learning is all about data, which we majorly classify into two forms: numerical data and categorical data. Numerical data includes features like age, weight, and marks, while categorical data includes categories like gender and state. In categorical data, there are two types:\n",
    "\n",
    "1. **Ordinal data:** This is categorical data with an intrinsic order, like feedback ratings (poor, good, excellent). If there's an order in categorical data, we call it ordinal data.\n",
    "2. **Nominal data:** This is categorical data without an intrinsic order, like gender."
   ]
  },
  {
   "cell_type": "code",
   "execution_count": 11,
   "metadata": {
    "id": "L8ZBLoOW_0SL"
   },
   "outputs": [],
   "source": [
    "import numpy as np\n",
    "import pandas as pd"
   ]
  },
  {
   "cell_type": "code",
   "execution_count": 12,
   "metadata": {
    "id": "UKWvkryE_7M5"
   },
   "outputs": [],
   "source": [
    "df = pd.read_csv(r'C:\\Feature Engineering\\Datasets\\customer.csv').drop(columns=['age','gender'])"
   ]
  },
  {
   "cell_type": "code",
   "execution_count": 13,
   "metadata": {
    "colab": {
     "base_uri": "https://localhost:8080/",
     "height": 206
    },
    "id": "KsQngOXq_9Vb",
    "outputId": "b64cba79-f79e-4879-feb6-a0717da59860"
   },
   "outputs": [
    {
     "data": {
      "text/html": [
       "<div>\n",
       "<style scoped>\n",
       "    .dataframe tbody tr th:only-of-type {\n",
       "        vertical-align: middle;\n",
       "    }\n",
       "\n",
       "    .dataframe tbody tr th {\n",
       "        vertical-align: top;\n",
       "    }\n",
       "\n",
       "    .dataframe thead th {\n",
       "        text-align: right;\n",
       "    }\n",
       "</style>\n",
       "<table border=\"1\" class=\"dataframe\">\n",
       "  <thead>\n",
       "    <tr style=\"text-align: right;\">\n",
       "      <th></th>\n",
       "      <th>review</th>\n",
       "      <th>education</th>\n",
       "      <th>purchased</th>\n",
       "    </tr>\n",
       "  </thead>\n",
       "  <tbody>\n",
       "    <tr>\n",
       "      <th>0</th>\n",
       "      <td>Average</td>\n",
       "      <td>School</td>\n",
       "      <td>No</td>\n",
       "    </tr>\n",
       "    <tr>\n",
       "      <th>1</th>\n",
       "      <td>Poor</td>\n",
       "      <td>UG</td>\n",
       "      <td>No</td>\n",
       "    </tr>\n",
       "    <tr>\n",
       "      <th>2</th>\n",
       "      <td>Good</td>\n",
       "      <td>PG</td>\n",
       "      <td>No</td>\n",
       "    </tr>\n",
       "    <tr>\n",
       "      <th>3</th>\n",
       "      <td>Good</td>\n",
       "      <td>PG</td>\n",
       "      <td>No</td>\n",
       "    </tr>\n",
       "    <tr>\n",
       "      <th>4</th>\n",
       "      <td>Average</td>\n",
       "      <td>UG</td>\n",
       "      <td>No</td>\n",
       "    </tr>\n",
       "  </tbody>\n",
       "</table>\n",
       "</div>"
      ],
      "text/plain": [
       "    review education purchased\n",
       "0  Average    School        No\n",
       "1     Poor        UG        No\n",
       "2     Good        PG        No\n",
       "3     Good        PG        No\n",
       "4  Average        UG        No"
      ]
     },
     "execution_count": 13,
     "metadata": {},
     "output_type": "execute_result"
    }
   ],
   "source": [
    "df.head()"
   ]
  },
  {
   "cell_type": "markdown",
   "metadata": {
    "id": "1XZLY-ur2CvS"
   },
   "source": [
    "### 1. Ordinal Encoding"
   ]
  },
  {
   "cell_type": "markdown",
   "metadata": {
    "id": "PiYN-YW_xIoi"
   },
   "source": [
    "Ordinal encoding is a data preprocessing technique used in machine learning to convert categorical variables that have a natural, ordered relationship into a numerical format. This method assigns a unique integer to each category based on its rank or position in that order.\n",
    "\n",
    "How Ordinal Encoding Works\n",
    "The core principle of ordinal encoding is to replace categorical labels with integers that preserve the inherent sequence of the data. For this to be effective, the variable must be ordinal, meaning its categories have a logical progression.\n",
    "\n",
    "For instance, consider a variable for clothing size. The categories \"Small,\" \"Medium,\" and \"Large\" have a clear order. Ordinal encoding would convert them as follows:\n",
    "\n",
    "- Small → 0\n",
    "\n",
    "- Medium → 1\n",
    "\n",
    "- Large → 2\n",
    "\n",
    "This numerical representation allows machine learning algorithms, which primarily operate on numbers, to interpret the hierarchical nature of the feature.\n",
    "\n",
    "When to Use Ordinal Encoding\n",
    "This technique is most appropriate under specific circumstances:\n",
    "\n",
    "- Presence of Inherent Order: It should only be used for categorical features where the categories have a meaningful, ranked relationship. Examples include educational levels (\"High School,\" \"Bachelor's,\" \"Master's\"), customer satisfaction ratings (\"Dissatisfied,\" \"Neutral,\" \"Satisfied\"), or economic status (\"Low,\" \"Medium,\" \"High\").\n",
    "\n",
    "- Tree-Based Models: Algorithms like Decision Trees, Random Forests, and Gradient Boosting are well-suited for ordinally encoded data. These models can effectively use the ordered nature of the integers to make splits and decisions.\n",
    "\n",
    "Key Assumptions and Limitations\n",
    "While useful, ordinal encoding operates on a crucial assumption that can also be its main limitation:\n",
    "\n",
    "- Assumption of Equal Intervals: The technique implicitly assumes that the numerical distance between each category is equal. For example, in the \"Small, Medium, Large\" mapping (0, 1, 2), a model might interpret the difference between \"Small\" and \"Medium\" as being the same as the difference between \"Medium\" and \"Large.\" This may not be true in reality and can mislead certain types of models, such as linear models or Support Vector Machines, which are sensitive to the magnitude of feature values.\n",
    "\n",
    "- Not for Nominal Data: It is unsuitable for nominal categorical variables, where no intrinsic order exists (e.g., colors like \"Red,\" \"Green,\" \"Blue\"). Applying ordinal encoding to such data would introduce a false and misleading order, likely harming the model's performance. For nominal data, techniques like one-hot encoding are preferred."
   ]
  },
  {
   "cell_type": "code",
   "execution_count": 14,
   "metadata": {
    "id": "feDh3z9k_-RG"
   },
   "outputs": [],
   "source": [
    "from sklearn.preprocessing import OrdinalEncoder\n",
    "from sklearn.model_selection import train_test_split"
   ]
  },
  {
   "cell_type": "code",
   "execution_count": 15,
   "metadata": {
    "id": "7EfNyVKzAXba"
   },
   "outputs": [],
   "source": [
    "X_train, X_test, y_train, y_test = train_test_split(df.iloc[:,0:2], df.iloc[:,-1], test_size=0.2)"
   ]
  },
  {
   "cell_type": "code",
   "execution_count": 16,
   "metadata": {
    "colab": {
     "base_uri": "https://localhost:8080/",
     "height": 1000
    },
    "id": "KjtJP07VBWB-",
    "outputId": "2eb8b4cc-34eb-46ab-cfbf-9da7b5c72520"
   },
   "outputs": [
    {
     "data": {
      "text/html": [
       "<div>\n",
       "<style scoped>\n",
       "    .dataframe tbody tr th:only-of-type {\n",
       "        vertical-align: middle;\n",
       "    }\n",
       "\n",
       "    .dataframe tbody tr th {\n",
       "        vertical-align: top;\n",
       "    }\n",
       "\n",
       "    .dataframe thead th {\n",
       "        text-align: right;\n",
       "    }\n",
       "</style>\n",
       "<table border=\"1\" class=\"dataframe\">\n",
       "  <thead>\n",
       "    <tr style=\"text-align: right;\">\n",
       "      <th></th>\n",
       "      <th>review</th>\n",
       "      <th>education</th>\n",
       "    </tr>\n",
       "  </thead>\n",
       "  <tbody>\n",
       "    <tr>\n",
       "      <th>11</th>\n",
       "      <td>Good</td>\n",
       "      <td>UG</td>\n",
       "    </tr>\n",
       "    <tr>\n",
       "      <th>32</th>\n",
       "      <td>Average</td>\n",
       "      <td>UG</td>\n",
       "    </tr>\n",
       "    <tr>\n",
       "      <th>3</th>\n",
       "      <td>Good</td>\n",
       "      <td>PG</td>\n",
       "    </tr>\n",
       "    <tr>\n",
       "      <th>13</th>\n",
       "      <td>Average</td>\n",
       "      <td>School</td>\n",
       "    </tr>\n",
       "    <tr>\n",
       "      <th>42</th>\n",
       "      <td>Good</td>\n",
       "      <td>PG</td>\n",
       "    </tr>\n",
       "    <tr>\n",
       "      <th>17</th>\n",
       "      <td>Poor</td>\n",
       "      <td>UG</td>\n",
       "    </tr>\n",
       "    <tr>\n",
       "      <th>25</th>\n",
       "      <td>Good</td>\n",
       "      <td>School</td>\n",
       "    </tr>\n",
       "    <tr>\n",
       "      <th>45</th>\n",
       "      <td>Poor</td>\n",
       "      <td>PG</td>\n",
       "    </tr>\n",
       "    <tr>\n",
       "      <th>29</th>\n",
       "      <td>Average</td>\n",
       "      <td>UG</td>\n",
       "    </tr>\n",
       "    <tr>\n",
       "      <th>41</th>\n",
       "      <td>Good</td>\n",
       "      <td>PG</td>\n",
       "    </tr>\n",
       "    <tr>\n",
       "      <th>9</th>\n",
       "      <td>Good</td>\n",
       "      <td>UG</td>\n",
       "    </tr>\n",
       "    <tr>\n",
       "      <th>12</th>\n",
       "      <td>Poor</td>\n",
       "      <td>School</td>\n",
       "    </tr>\n",
       "    <tr>\n",
       "      <th>22</th>\n",
       "      <td>Poor</td>\n",
       "      <td>PG</td>\n",
       "    </tr>\n",
       "    <tr>\n",
       "      <th>46</th>\n",
       "      <td>Poor</td>\n",
       "      <td>PG</td>\n",
       "    </tr>\n",
       "    <tr>\n",
       "      <th>0</th>\n",
       "      <td>Average</td>\n",
       "      <td>School</td>\n",
       "    </tr>\n",
       "    <tr>\n",
       "      <th>16</th>\n",
       "      <td>Poor</td>\n",
       "      <td>UG</td>\n",
       "    </tr>\n",
       "    <tr>\n",
       "      <th>48</th>\n",
       "      <td>Good</td>\n",
       "      <td>UG</td>\n",
       "    </tr>\n",
       "    <tr>\n",
       "      <th>49</th>\n",
       "      <td>Good</td>\n",
       "      <td>UG</td>\n",
       "    </tr>\n",
       "    <tr>\n",
       "      <th>24</th>\n",
       "      <td>Average</td>\n",
       "      <td>PG</td>\n",
       "    </tr>\n",
       "    <tr>\n",
       "      <th>31</th>\n",
       "      <td>Poor</td>\n",
       "      <td>School</td>\n",
       "    </tr>\n",
       "    <tr>\n",
       "      <th>4</th>\n",
       "      <td>Average</td>\n",
       "      <td>UG</td>\n",
       "    </tr>\n",
       "    <tr>\n",
       "      <th>33</th>\n",
       "      <td>Good</td>\n",
       "      <td>PG</td>\n",
       "    </tr>\n",
       "    <tr>\n",
       "      <th>34</th>\n",
       "      <td>Average</td>\n",
       "      <td>School</td>\n",
       "    </tr>\n",
       "    <tr>\n",
       "      <th>43</th>\n",
       "      <td>Poor</td>\n",
       "      <td>PG</td>\n",
       "    </tr>\n",
       "    <tr>\n",
       "      <th>38</th>\n",
       "      <td>Good</td>\n",
       "      <td>School</td>\n",
       "    </tr>\n",
       "    <tr>\n",
       "      <th>7</th>\n",
       "      <td>Poor</td>\n",
       "      <td>School</td>\n",
       "    </tr>\n",
       "    <tr>\n",
       "      <th>44</th>\n",
       "      <td>Average</td>\n",
       "      <td>UG</td>\n",
       "    </tr>\n",
       "    <tr>\n",
       "      <th>15</th>\n",
       "      <td>Poor</td>\n",
       "      <td>UG</td>\n",
       "    </tr>\n",
       "    <tr>\n",
       "      <th>19</th>\n",
       "      <td>Poor</td>\n",
       "      <td>PG</td>\n",
       "    </tr>\n",
       "    <tr>\n",
       "      <th>1</th>\n",
       "      <td>Poor</td>\n",
       "      <td>UG</td>\n",
       "    </tr>\n",
       "    <tr>\n",
       "      <th>2</th>\n",
       "      <td>Good</td>\n",
       "      <td>PG</td>\n",
       "    </tr>\n",
       "    <tr>\n",
       "      <th>23</th>\n",
       "      <td>Good</td>\n",
       "      <td>School</td>\n",
       "    </tr>\n",
       "    <tr>\n",
       "      <th>26</th>\n",
       "      <td>Poor</td>\n",
       "      <td>PG</td>\n",
       "    </tr>\n",
       "    <tr>\n",
       "      <th>20</th>\n",
       "      <td>Average</td>\n",
       "      <td>School</td>\n",
       "    </tr>\n",
       "    <tr>\n",
       "      <th>35</th>\n",
       "      <td>Poor</td>\n",
       "      <td>School</td>\n",
       "    </tr>\n",
       "    <tr>\n",
       "      <th>39</th>\n",
       "      <td>Poor</td>\n",
       "      <td>PG</td>\n",
       "    </tr>\n",
       "    <tr>\n",
       "      <th>30</th>\n",
       "      <td>Average</td>\n",
       "      <td>UG</td>\n",
       "    </tr>\n",
       "    <tr>\n",
       "      <th>8</th>\n",
       "      <td>Average</td>\n",
       "      <td>UG</td>\n",
       "    </tr>\n",
       "    <tr>\n",
       "      <th>18</th>\n",
       "      <td>Good</td>\n",
       "      <td>School</td>\n",
       "    </tr>\n",
       "    <tr>\n",
       "      <th>37</th>\n",
       "      <td>Average</td>\n",
       "      <td>PG</td>\n",
       "    </tr>\n",
       "  </tbody>\n",
       "</table>\n",
       "</div>"
      ],
      "text/plain": [
       "     review education\n",
       "11     Good        UG\n",
       "32  Average        UG\n",
       "3      Good        PG\n",
       "13  Average    School\n",
       "42     Good        PG\n",
       "17     Poor        UG\n",
       "25     Good    School\n",
       "45     Poor        PG\n",
       "29  Average        UG\n",
       "41     Good        PG\n",
       "9      Good        UG\n",
       "12     Poor    School\n",
       "22     Poor        PG\n",
       "46     Poor        PG\n",
       "0   Average    School\n",
       "16     Poor        UG\n",
       "48     Good        UG\n",
       "49     Good        UG\n",
       "24  Average        PG\n",
       "31     Poor    School\n",
       "4   Average        UG\n",
       "33     Good        PG\n",
       "34  Average    School\n",
       "43     Poor        PG\n",
       "38     Good    School\n",
       "7      Poor    School\n",
       "44  Average        UG\n",
       "15     Poor        UG\n",
       "19     Poor        PG\n",
       "1      Poor        UG\n",
       "2      Good        PG\n",
       "23     Good    School\n",
       "26     Poor        PG\n",
       "20  Average    School\n",
       "35     Poor    School\n",
       "39     Poor        PG\n",
       "30  Average        UG\n",
       "8   Average        UG\n",
       "18     Good    School\n",
       "37  Average        PG"
      ]
     },
     "execution_count": 16,
     "metadata": {},
     "output_type": "execute_result"
    }
   ],
   "source": [
    "X_train"
   ]
  },
  {
   "cell_type": "code",
   "execution_count": 17,
   "metadata": {
    "id": "H1GvrzlzBXaW"
   },
   "outputs": [],
   "source": [
    "# specify order\n",
    "oe = OrdinalEncoder(categories=[['Poor','Average','Good'],['School','UG','PG']])"
   ]
  },
  {
   "cell_type": "code",
   "execution_count": 18,
   "metadata": {
    "id": "E5iHLC0gBgS_"
   },
   "outputs": [],
   "source": [
    "X_train = oe.fit_transform(X_train)\n",
    "X_test = oe.transform(X_test)"
   ]
  },
  {
   "cell_type": "code",
   "execution_count": 19,
   "metadata": {
    "colab": {
     "base_uri": "https://localhost:8080/",
     "height": 1000
    },
    "id": "ffh1Qjd2Bspt",
    "outputId": "3c62af07-0b62-468b-81c9-c134718acdfb"
   },
   "outputs": [
    {
     "data": {
      "text/plain": [
       "array([[2., 1.],\n",
       "       [1., 1.],\n",
       "       [2., 2.],\n",
       "       [1., 0.],\n",
       "       [2., 2.],\n",
       "       [0., 1.],\n",
       "       [2., 0.],\n",
       "       [0., 2.],\n",
       "       [1., 1.],\n",
       "       [2., 2.],\n",
       "       [2., 1.],\n",
       "       [0., 0.],\n",
       "       [0., 2.],\n",
       "       [0., 2.],\n",
       "       [1., 0.],\n",
       "       [0., 1.],\n",
       "       [2., 1.],\n",
       "       [2., 1.],\n",
       "       [1., 2.],\n",
       "       [0., 0.],\n",
       "       [1., 1.],\n",
       "       [2., 2.],\n",
       "       [1., 0.],\n",
       "       [0., 2.],\n",
       "       [2., 0.],\n",
       "       [0., 0.],\n",
       "       [1., 1.],\n",
       "       [0., 1.],\n",
       "       [0., 2.],\n",
       "       [0., 1.],\n",
       "       [2., 2.],\n",
       "       [2., 0.],\n",
       "       [0., 2.],\n",
       "       [1., 0.],\n",
       "       [0., 0.],\n",
       "       [0., 2.],\n",
       "       [1., 1.],\n",
       "       [1., 1.],\n",
       "       [2., 0.],\n",
       "       [1., 2.]])"
      ]
     },
     "execution_count": 19,
     "metadata": {},
     "output_type": "execute_result"
    }
   ],
   "source": [
    "X_train"
   ]
  },
  {
   "cell_type": "code",
   "execution_count": 20,
   "metadata": {
    "colab": {
     "base_uri": "https://localhost:8080/"
    },
    "id": "b54zmN1HB-V5",
    "outputId": "a5f5103a-6c02-4ea4-f474-6b83251f6023"
   },
   "outputs": [
    {
     "data": {
      "text/plain": [
       "[array(['Poor', 'Average', 'Good'], dtype=object),\n",
       " array(['School', 'UG', 'PG'], dtype=object)]"
      ]
     },
     "execution_count": 20,
     "metadata": {},
     "output_type": "execute_result"
    }
   ],
   "source": [
    "oe.categories_"
   ]
  },
  {
   "cell_type": "code",
   "execution_count": 21,
   "metadata": {
    "colab": {
     "base_uri": "https://localhost:8080/"
    },
    "id": "b1Hsj7BHCCD6",
    "outputId": "ea086688-8dfe-4ff8-9a82-ff36c1ed8a93"
   },
   "outputs": [
    {
     "data": {
      "text/plain": [
       "array(['review', 'education'], dtype=object)"
      ]
     },
     "execution_count": 21,
     "metadata": {},
     "output_type": "execute_result"
    }
   ],
   "source": [
    "oe.feature_names_in_"
   ]
  },
  {
   "cell_type": "code",
   "execution_count": 22,
   "metadata": {
    "colab": {
     "base_uri": "https://localhost:8080/"
    },
    "id": "EujQrLVGCFaF",
    "outputId": "948b7572-d9d2-4183-e4e5-dcd62a60b5b8"
   },
   "outputs": [
    {
     "data": {
      "text/plain": [
       "2"
      ]
     },
     "execution_count": 22,
     "metadata": {},
     "output_type": "execute_result"
    }
   ],
   "source": [
    "oe.n_features_in_"
   ]
  },
  {
   "cell_type": "code",
   "execution_count": 23,
   "metadata": {
    "colab": {
     "base_uri": "https://localhost:8080/"
    },
    "id": "IUmuArzBCJeK",
    "outputId": "878bd453-6133-4d6c-8d9b-c68a502f4a37"
   },
   "outputs": [
    {
     "data": {
      "text/plain": [
       "array([['Poor', 'PG']], dtype=object)"
      ]
     },
     "execution_count": 23,
     "metadata": {},
     "output_type": "execute_result"
    }
   ],
   "source": [
    "oe.inverse_transform(np.array([0,2]).reshape(1,2))"
   ]
  },
  {
   "cell_type": "code",
   "execution_count": 24,
   "metadata": {
    "colab": {
     "base_uri": "https://localhost:8080/"
    },
    "id": "xXo6XQj5DHTc",
    "outputId": "56d0c153-1cec-4f66-8caf-238c8462677d"
   },
   "outputs": [
    {
     "data": {
      "text/plain": [
       "array(['review', 'education'], dtype=object)"
      ]
     },
     "execution_count": 24,
     "metadata": {},
     "output_type": "execute_result"
    }
   ],
   "source": [
    "oe.get_feature_names_out()"
   ]
  },
  {
   "cell_type": "code",
   "execution_count": 25,
   "metadata": {
    "colab": {
     "base_uri": "https://localhost:8080/",
     "height": 135
    },
    "id": "7hqoCe-SJMHU",
    "outputId": "eb6341af-fb7e-4a30-f015-4db3d3e44605"
   },
   "outputs": [
    {
     "name": "stderr",
     "output_type": "stream",
     "text": [
      "C:\\Users\\dell\\AppData\\Local\\Programs\\Python\\Python313\\Lib\\site-packages\\sklearn\\utils\\validation.py:2749: UserWarning: X does not have valid feature names, but OrdinalEncoder was fitted with feature names\n",
      "  warnings.warn(\n"
     ]
    },
    {
     "data": {
      "text/plain": [
       "array([[ 0., -1.]])"
      ]
     },
     "execution_count": 25,
     "metadata": {},
     "output_type": "execute_result"
    }
   ],
   "source": [
    "# set unknown value\n",
    "oe = OrdinalEncoder(categories=[['Poor','Average','Good'],['School','UG','PG']],\n",
    "                    handle_unknown='use_encoded_value',\n",
    "                    unknown_value=-1)\n",
    "X_train, X_test, y_train, y_test = train_test_split(df.iloc[:,0:2], df.iloc[:,-1], test_size=0.2)\n",
    "X_train = oe.fit_transform(X_train)\n",
    "oe.transform(np.array(['Poor','college']).reshape(1,2))"
   ]
  },
  {
   "cell_type": "markdown",
   "metadata": {
    "id": "dRhlaYgB17w4"
   },
   "source": [
    "Infrequent categories, often referred to as \"rare categories,\" are categories within a categorical variable that appear very seldom in the dataset. These categories are characterized by having a low frequency or count compared to other categories within the same feature.\n",
    "\n",
    "How to handle:\n",
    "\n",
    "- Aggregation: Combining rare categories into a single \"Other\" category to reduce the feature's cardinality and simplify the model.\n",
    "\n",
    "- Encoding with Special Treatment: Using encoding techniques that specifically account for the rarity of categories, such as setting a min_frequency or max_categories threshold in OrdinalEncoder, or employing target encoding where the influence of rare categories is mitigated.\n",
    "\n",
    "- Exclusion: In some cases, particularly when a category is extremely rare, it might be justified to exclude those data points from the analysis if it's believed they do not add value or could introduce noise."
   ]
  },
  {
   "cell_type": "code",
   "execution_count": 26,
   "metadata": {
    "colab": {
     "base_uri": "https://localhost:8080/"
    },
    "id": "TTQMhiVfNIz7",
    "outputId": "fdeaf5bd-9e12-4a3b-8efa-c741827beeb2"
   },
   "outputs": [
    {
     "data": {
      "text/plain": [
       "array([['dog'],\n",
       "       ['dog'],\n",
       "       ['dog'],\n",
       "       ['dog'],\n",
       "       ['dog'],\n",
       "       ['cat'],\n",
       "       ['cat'],\n",
       "       ['cat'],\n",
       "       ['cat'],\n",
       "       ['cat'],\n",
       "       ['cat'],\n",
       "       ['cat'],\n",
       "       ['cat'],\n",
       "       ['cat'],\n",
       "       ['cat'],\n",
       "       ['cat'],\n",
       "       ['cat'],\n",
       "       ['cat'],\n",
       "       ['cat'],\n",
       "       ['cat'],\n",
       "       ['cat'],\n",
       "       ['cat'],\n",
       "       ['cat'],\n",
       "       ['cat'],\n",
       "       ['cat'],\n",
       "       ['rabbit'],\n",
       "       ['rabbit'],\n",
       "       ['rabbit'],\n",
       "       ['rabbit'],\n",
       "       ['rabbit'],\n",
       "       ['rabbit'],\n",
       "       ['rabbit'],\n",
       "       ['rabbit'],\n",
       "       ['rabbit'],\n",
       "       ['rabbit'],\n",
       "       ['snake'],\n",
       "       ['snake'],\n",
       "       ['snake'],\n",
       "       ['horse'],\n",
       "       ['horse']], dtype=object)"
      ]
     },
     "execution_count": 26,
     "metadata": {},
     "output_type": "execute_result"
    }
   ],
   "source": [
    "# handling infrequent categories\n",
    "X = np.array([['dog'] * 5 + ['cat'] * 20 + ['rabbit'] * 10 +['snake'] * 3 + ['horse'] * 2], dtype=object).T\n",
    "X"
   ]
  },
  {
   "cell_type": "markdown",
   "metadata": {
    "id": "CL2rAS173ydm"
   },
   "source": [
    "### `max_categories` in OrdinalEncoder (with grouping)\n",
    "\n",
    "- **Purpose**: Limits the number of categories encoded for a column.\n",
    "- **How it works**:\n",
    "  - If a column has **more unique categories than `max_categories`**, the encoder keeps only the **most frequent categories**.\n",
    "  - All other less frequent categories are **grouped into an \"other\" category**.\n",
    "- **Example**:\n",
    "  - Column has categories: `A, B, C, D, E`\n",
    "  - `max_categories=3` → encoder keeps top 2 frequent categories (`A`, `B`) as-is.\n",
    "  - All remaining categories (`C, D, E`) are combined into **one \"other\" category**.\n",
    "- **Benefit**: Reduces complexity and prevents rare categories from affecting the model."
   ]
  },
  {
   "cell_type": "code",
   "execution_count": 27,
   "metadata": {
    "id": "88Ag6Wzz45-C"
   },
   "outputs": [],
   "source": [
    "enc = OrdinalEncoder(max_categories=3).fit(X)"
   ]
  },
  {
   "cell_type": "code",
   "execution_count": 28,
   "metadata": {
    "colab": {
     "base_uri": "https://localhost:8080/"
    },
    "id": "jE_APwgi6cNb",
    "outputId": "1fdae7a9-f3d6-4fe4-89d1-f39f48894624"
   },
   "outputs": [
    {
     "data": {
      "text/plain": [
       "[array(['dog', 'horse', 'snake'], dtype=object)]"
      ]
     },
     "execution_count": 28,
     "metadata": {},
     "output_type": "execute_result"
    }
   ],
   "source": [
    "enc.infrequent_categories_"
   ]
  },
  {
   "cell_type": "code",
   "execution_count": 29,
   "metadata": {
    "colab": {
     "base_uri": "https://localhost:8080/",
     "height": 174
    },
    "id": "5jI7v-NI69yZ",
    "outputId": "c1c94f5e-c219-4ca5-a297-ccf408b83147"
   },
   "outputs": [
    {
     "data": {
      "text/plain": [
       "array([[0.],\n",
       "       [1.],\n",
       "       [2.],\n",
       "       [2.]])"
      ]
     },
     "execution_count": 29,
     "metadata": {},
     "output_type": "execute_result"
    }
   ],
   "source": [
    "enc.transform(np.array([['cat','rabbit','snake','dog']]).reshape(4,1))"
   ]
  },
  {
   "cell_type": "markdown",
   "metadata": {
    "id": "BUMTF02Q4-sH"
   },
   "source": [
    "### `min_frequency` in OrdinalEncoder\n",
    "\n",
    "- **Purpose**: Groups together *rare categories* based on how often they appear in the data.\n",
    "- **How it works**:\n",
    "  - Instead of specifying a fixed number of top categories (like `max_categories`),\n",
    "    you set a **minimum occurrence threshold**.\n",
    "  - Any category that appears **less than the given threshold** is combined into a single\n",
    "    **\"other\" category**.\n",
    "- **Parameter options**:\n",
    "  - An **integer** (e.g., `6`) → categories with counts **≥ 6** are kept; all others grouped as “other”.\n",
    "  - A **float** between `0` and `1` → treated as a fraction of the total sample size\n",
    "    (e.g., `0.05` keeps categories that occur in at least 5% of the rows).\n",
    "- **Benefit**: Automatically handles rare or noisy categories without manually counting them.\n",
    "\n",
    "\n"
   ]
  },
  {
   "cell_type": "code",
   "execution_count": 30,
   "metadata": {
    "colab": {
     "base_uri": "https://localhost:8080/"
    },
    "id": "iBsp7bxK7MCI",
    "outputId": "4dcadfa8-1d51-4419-f684-f44a2569b570"
   },
   "outputs": [
    {
     "data": {
      "text/plain": [
       "[array(['horse', 'snake'], dtype=object)]"
      ]
     },
     "execution_count": 30,
     "metadata": {},
     "output_type": "execute_result"
    }
   ],
   "source": [
    "enc = OrdinalEncoder(min_frequency=4).fit(X)\n",
    "enc.infrequent_categories_"
   ]
  },
  {
   "cell_type": "code",
   "execution_count": 31,
   "metadata": {
    "colab": {
     "base_uri": "https://localhost:8080/",
     "height": 206
    },
    "id": "6ffIwLzB7X0X",
    "outputId": "f79e9786-b0cd-42bc-b930-ccf0e1cfed36"
   },
   "outputs": [
    {
     "data": {
      "text/plain": [
       "array([[0.],\n",
       "       [2.],\n",
       "       [3.],\n",
       "       [1.],\n",
       "       [3.]])"
      ]
     },
     "execution_count": 31,
     "metadata": {},
     "output_type": "execute_result"
    }
   ],
   "source": [
    "enc.transform(np.array([['cat','rabbit','snake','dog','horse']]).reshape(5,1))"
   ]
  },
  {
   "cell_type": "code",
   "execution_count": 32,
   "metadata": {
    "colab": {
     "base_uri": "https://localhost:8080/"
    },
    "id": "wwLXweWC53JO",
    "outputId": "62718292-10d7-42d3-8914-0ed9023845d7"
   },
   "outputs": [
    {
     "name": "stdout",
     "output_type": "stream",
     "text": [
      "[[ 0.]\n",
      " [-1.]\n",
      " [ 1.]\n",
      " [ 2.]\n",
      " [-1.]]\n"
     ]
    }
   ],
   "source": [
    "# handling missing data\n",
    "\n",
    "# Example categorical data with missing values\n",
    "data = [['Cat'], [np.nan], ['Dog'], ['Fish'], [np.nan]]\n",
    "\n",
    "# Setting encoded_missing_value to -1, indicating we want missing values to be encoded as -1\n",
    "encoder = OrdinalEncoder(encoded_missing_value=-1)\n",
    "\n",
    "encoded_data = encoder.fit_transform(data)\n",
    "\n",
    "print(encoded_data)"
   ]
  },
  {
   "cell_type": "markdown",
   "metadata": {
    "id": "AUSPx3IOqsTp"
   },
   "source": [
    "### Label Encoder\n",
    "\n",
    "- **Purpose**: Encodes the **target/output feature** in classification problems.\n",
    "- **Key Points**:\n",
    "  - Not used for input features; it is **target/label encoding**, not feature encoding.\n",
    "  - Converts categorical labels into **integer values**.\n",
    "  - Useful when the output column contains categories like `['cat', 'dog', 'mouse']`.\n",
    "- **Example Mapping**:\n",
    "\n",
    "| Original Label | Encoded Value |\n",
    "|----------------|---------------|\n",
    "| cat            | 0             |\n",
    "| dog            | 1             |\n",
    "| mouse          | 2             |\n",
    "\n",
    "\n"
   ]
  },
  {
   "cell_type": "code",
   "execution_count": 33,
   "metadata": {
    "colab": {
     "base_uri": "https://localhost:8080/",
     "height": 206
    },
    "id": "4E4Nu6paOplS",
    "outputId": "b95c529a-8fcc-4378-8fd9-97197008bf92"
   },
   "outputs": [
    {
     "data": {
      "text/html": [
       "<div>\n",
       "<style scoped>\n",
       "    .dataframe tbody tr th:only-of-type {\n",
       "        vertical-align: middle;\n",
       "    }\n",
       "\n",
       "    .dataframe tbody tr th {\n",
       "        vertical-align: top;\n",
       "    }\n",
       "\n",
       "    .dataframe thead th {\n",
       "        text-align: right;\n",
       "    }\n",
       "</style>\n",
       "<table border=\"1\" class=\"dataframe\">\n",
       "  <thead>\n",
       "    <tr style=\"text-align: right;\">\n",
       "      <th></th>\n",
       "      <th>review</th>\n",
       "      <th>education</th>\n",
       "      <th>purchased</th>\n",
       "    </tr>\n",
       "  </thead>\n",
       "  <tbody>\n",
       "    <tr>\n",
       "      <th>0</th>\n",
       "      <td>Average</td>\n",
       "      <td>School</td>\n",
       "      <td>No</td>\n",
       "    </tr>\n",
       "    <tr>\n",
       "      <th>1</th>\n",
       "      <td>Poor</td>\n",
       "      <td>UG</td>\n",
       "      <td>No</td>\n",
       "    </tr>\n",
       "    <tr>\n",
       "      <th>2</th>\n",
       "      <td>Good</td>\n",
       "      <td>PG</td>\n",
       "      <td>No</td>\n",
       "    </tr>\n",
       "    <tr>\n",
       "      <th>3</th>\n",
       "      <td>Good</td>\n",
       "      <td>PG</td>\n",
       "      <td>No</td>\n",
       "    </tr>\n",
       "    <tr>\n",
       "      <th>4</th>\n",
       "      <td>Average</td>\n",
       "      <td>UG</td>\n",
       "      <td>No</td>\n",
       "    </tr>\n",
       "  </tbody>\n",
       "</table>\n",
       "</div>"
      ],
      "text/plain": [
       "    review education purchased\n",
       "0  Average    School        No\n",
       "1     Poor        UG        No\n",
       "2     Good        PG        No\n",
       "3     Good        PG        No\n",
       "4  Average        UG        No"
      ]
     },
     "execution_count": 33,
     "metadata": {},
     "output_type": "execute_result"
    }
   ],
   "source": [
    "df.head()"
   ]
  },
  {
   "cell_type": "code",
   "execution_count": 34,
   "metadata": {
    "id": "8Sh0XzJi8DDg"
   },
   "outputs": [],
   "source": [
    "X_train, X_test, y_train, y_test = train_test_split(df.iloc[:,0:2], df.iloc[:,-1], test_size=0.2)"
   ]
  },
  {
   "cell_type": "code",
   "execution_count": 35,
   "metadata": {
    "id": "qC6QlpTQAe0M"
   },
   "outputs": [],
   "source": [
    "from sklearn.preprocessing import LabelEncoder"
   ]
  },
  {
   "cell_type": "code",
   "execution_count": 36,
   "metadata": {
    "id": "p5UmmF44Ajgo"
   },
   "outputs": [],
   "source": [
    "le = LabelEncoder()\n",
    "y_train = le.fit_transform(y_train)\n",
    "y_test = le.transform(y_test)"
   ]
  },
  {
   "cell_type": "code",
   "execution_count": 37,
   "metadata": {
    "colab": {
     "base_uri": "https://localhost:8080/"
    },
    "id": "AzfcZDHVAt-G",
    "outputId": "792727d5-fe0f-4d5c-c4bd-a1960efdffcf"
   },
   "outputs": [
    {
     "data": {
      "text/plain": [
       "array(['No', 'Yes'], dtype=object)"
      ]
     },
     "execution_count": 37,
     "metadata": {},
     "output_type": "execute_result"
    }
   ],
   "source": [
    "le.classes_"
   ]
  },
  {
   "cell_type": "code",
   "execution_count": 38,
   "metadata": {
    "colab": {
     "base_uri": "https://localhost:8080/"
    },
    "id": "iOQVF8_FA-8_",
    "outputId": "541ef4a9-a7d3-4b2f-99b8-5975682378c8"
   },
   "outputs": [
    {
     "data": {
      "text/plain": [
       "array(['Yes', 'Yes', 'No'], dtype=object)"
      ]
     },
     "execution_count": 38,
     "metadata": {},
     "output_type": "execute_result"
    }
   ],
   "source": [
    "le.inverse_transform(np.array([1,1,0]))"
   ]
  },
  {
   "cell_type": "markdown",
   "metadata": {
    "id": "i13exhhYS3rx"
   },
   "source": [
    "### 2. OneHotEncoder\n",
    "\n",
    "- **Purpose**: Used for **categorical input features** that are **nominal**, i.e., have **no intrinsic order**.  \n",
    "  Examples: `brand` = ['Samsung', 'Apple', 'OnePlus']\n",
    "\n",
    "- **Why not use Ordinal Encoding here?**\n",
    "  - Ordinal encoding assigns integer values based on order.\n",
    "  - For nominal data, integers can mislead algorithms into thinking some categories are \"greater\" or \"more important.\"\n",
    "  - Some algorithms may give **unintended weight** to certain categories.\n",
    "\n",
    "- **How OneHotEncoder works**:\n",
    "  - For each category in a feature, a **new binary column** is created.\n",
    "  - If a row has that category, the column gets `1`; otherwise, `0`.\n",
    "  - Example:\n",
    "\n",
    "| brand      | brand_Samsung | brand_Apple | brand_OnePlus |\n",
    "|------------|---------------|-------------|---------------|\n",
    "| Samsung    | 1             | 0           | 0             |\n",
    "| Apple      | 0             | 1           | 0             |\n",
    "| OnePlus    | 0             | 0           | 1             |\n",
    "\n",
    "- **Key Points**:\n",
    "  - If a feature has `n` categories, it creates **n new features** (can also use `drop='first'` to avoid dummy variable trap).\n",
    "  - Produces a **sparse matrix** (mostly zeros).\n",
    "  - Called **\"one-hot\"** because only **one column has 1** for each row, rest are 0.\n",
    "\n",
    "\n"
   ]
  },
  {
   "cell_type": "code",
   "execution_count": 40,
   "metadata": {
    "colab": {
     "base_uri": "https://localhost:8080/",
     "height": 206
    },
    "id": "d7w0vV6VBCsy",
    "outputId": "c1848304-5ea3-4e39-a0a6-f81bd7904cda"
   },
   "outputs": [
    {
     "name": "stderr",
     "output_type": "stream",
     "text": [
      "<>:1: SyntaxWarning: invalid escape sequence '\\F'\n",
      "<>:1: SyntaxWarning: invalid escape sequence '\\F'\n",
      "C:\\Users\\dell\\AppData\\Local\\Temp\\ipykernel_8856\\800869964.py:1: SyntaxWarning: invalid escape sequence '\\F'\n",
      "  cars = pd.read_csv('C:\\Feature Engineering\\Datasets\\cars.csv').drop(columns=['km_driven','owner'])\n"
     ]
    },
    {
     "data": {
      "text/html": [
       "<div>\n",
       "<style scoped>\n",
       "    .dataframe tbody tr th:only-of-type {\n",
       "        vertical-align: middle;\n",
       "    }\n",
       "\n",
       "    .dataframe tbody tr th {\n",
       "        vertical-align: top;\n",
       "    }\n",
       "\n",
       "    .dataframe thead th {\n",
       "        text-align: right;\n",
       "    }\n",
       "</style>\n",
       "<table border=\"1\" class=\"dataframe\">\n",
       "  <thead>\n",
       "    <tr style=\"text-align: right;\">\n",
       "      <th></th>\n",
       "      <th>brand</th>\n",
       "      <th>fuel</th>\n",
       "      <th>selling_price</th>\n",
       "    </tr>\n",
       "  </thead>\n",
       "  <tbody>\n",
       "    <tr>\n",
       "      <th>0</th>\n",
       "      <td>Maruti</td>\n",
       "      <td>Diesel</td>\n",
       "      <td>450000</td>\n",
       "    </tr>\n",
       "    <tr>\n",
       "      <th>1</th>\n",
       "      <td>Skoda</td>\n",
       "      <td>Diesel</td>\n",
       "      <td>370000</td>\n",
       "    </tr>\n",
       "    <tr>\n",
       "      <th>2</th>\n",
       "      <td>Honda</td>\n",
       "      <td>Petrol</td>\n",
       "      <td>158000</td>\n",
       "    </tr>\n",
       "    <tr>\n",
       "      <th>3</th>\n",
       "      <td>Hyundai</td>\n",
       "      <td>Diesel</td>\n",
       "      <td>225000</td>\n",
       "    </tr>\n",
       "    <tr>\n",
       "      <th>4</th>\n",
       "      <td>Maruti</td>\n",
       "      <td>Petrol</td>\n",
       "      <td>130000</td>\n",
       "    </tr>\n",
       "  </tbody>\n",
       "</table>\n",
       "</div>"
      ],
      "text/plain": [
       "     brand    fuel  selling_price\n",
       "0   Maruti  Diesel         450000\n",
       "1    Skoda  Diesel         370000\n",
       "2    Honda  Petrol         158000\n",
       "3  Hyundai  Diesel         225000\n",
       "4   Maruti  Petrol         130000"
      ]
     },
     "execution_count": 40,
     "metadata": {},
     "output_type": "execute_result"
    }
   ],
   "source": [
    "cars = pd.read_csv('C:\\Feature Engineering\\Datasets\\cars.csv').drop(columns=['km_driven','owner'])\n",
    "cars.head()"
   ]
  },
  {
   "cell_type": "code",
   "execution_count": 41,
   "metadata": {
    "colab": {
     "base_uri": "https://localhost:8080/",
     "height": 178
    },
    "id": "sfdxAz4XZRpI",
    "outputId": "1c1ad7a6-504e-405c-e5ae-d02b758f4e39"
   },
   "outputs": [
    {
     "data": {
      "text/plain": [
       "brand            0\n",
       "fuel             0\n",
       "selling_price    0\n",
       "dtype: int64"
      ]
     },
     "execution_count": 41,
     "metadata": {},
     "output_type": "execute_result"
    }
   ],
   "source": [
    "cars.isnull().sum()"
   ]
  },
  {
   "cell_type": "code",
   "execution_count": 42,
   "metadata": {
    "id": "hRpOPGsJS_BI"
   },
   "outputs": [],
   "source": [
    "X = cars.iloc[:,0:2]\n",
    "y = cars.iloc[:,-1]"
   ]
  },
  {
   "cell_type": "code",
   "execution_count": 43,
   "metadata": {
    "id": "yy71HbwwTZJw"
   },
   "outputs": [],
   "source": [
    "from sklearn.model_selection import train_test_split\n",
    "X_train,X_test,y_train,y_test = train_test_split(X,y,test_size=0.2,random_state=42)"
   ]
  },
  {
   "cell_type": "code",
   "execution_count": 44,
   "metadata": {
    "colab": {
     "base_uri": "https://localhost:8080/",
     "height": 423
    },
    "id": "RC9uo5zxTk14",
    "outputId": "92e97877-62e6-4255-da58-138ed85fc341"
   },
   "outputs": [
    {
     "data": {
      "text/html": [
       "<div>\n",
       "<style scoped>\n",
       "    .dataframe tbody tr th:only-of-type {\n",
       "        vertical-align: middle;\n",
       "    }\n",
       "\n",
       "    .dataframe tbody tr th {\n",
       "        vertical-align: top;\n",
       "    }\n",
       "\n",
       "    .dataframe thead th {\n",
       "        text-align: right;\n",
       "    }\n",
       "</style>\n",
       "<table border=\"1\" class=\"dataframe\">\n",
       "  <thead>\n",
       "    <tr style=\"text-align: right;\">\n",
       "      <th></th>\n",
       "      <th>brand</th>\n",
       "      <th>fuel</th>\n",
       "    </tr>\n",
       "  </thead>\n",
       "  <tbody>\n",
       "    <tr>\n",
       "      <th>6518</th>\n",
       "      <td>Tata</td>\n",
       "      <td>Petrol</td>\n",
       "    </tr>\n",
       "    <tr>\n",
       "      <th>6144</th>\n",
       "      <td>Honda</td>\n",
       "      <td>Petrol</td>\n",
       "    </tr>\n",
       "    <tr>\n",
       "      <th>6381</th>\n",
       "      <td>Hyundai</td>\n",
       "      <td>Diesel</td>\n",
       "    </tr>\n",
       "    <tr>\n",
       "      <th>438</th>\n",
       "      <td>Maruti</td>\n",
       "      <td>Diesel</td>\n",
       "    </tr>\n",
       "    <tr>\n",
       "      <th>5939</th>\n",
       "      <td>Maruti</td>\n",
       "      <td>Petrol</td>\n",
       "    </tr>\n",
       "    <tr>\n",
       "      <th>...</th>\n",
       "      <td>...</td>\n",
       "      <td>...</td>\n",
       "    </tr>\n",
       "    <tr>\n",
       "      <th>5226</th>\n",
       "      <td>Mahindra</td>\n",
       "      <td>Diesel</td>\n",
       "    </tr>\n",
       "    <tr>\n",
       "      <th>5390</th>\n",
       "      <td>Maruti</td>\n",
       "      <td>Diesel</td>\n",
       "    </tr>\n",
       "    <tr>\n",
       "      <th>860</th>\n",
       "      <td>Hyundai</td>\n",
       "      <td>Petrol</td>\n",
       "    </tr>\n",
       "    <tr>\n",
       "      <th>7603</th>\n",
       "      <td>Maruti</td>\n",
       "      <td>Diesel</td>\n",
       "    </tr>\n",
       "    <tr>\n",
       "      <th>7270</th>\n",
       "      <td>Maruti</td>\n",
       "      <td>Petrol</td>\n",
       "    </tr>\n",
       "  </tbody>\n",
       "</table>\n",
       "<p>6502 rows × 2 columns</p>\n",
       "</div>"
      ],
      "text/plain": [
       "         brand    fuel\n",
       "6518      Tata  Petrol\n",
       "6144     Honda  Petrol\n",
       "6381   Hyundai  Diesel\n",
       "438     Maruti  Diesel\n",
       "5939    Maruti  Petrol\n",
       "...        ...     ...\n",
       "5226  Mahindra  Diesel\n",
       "5390    Maruti  Diesel\n",
       "860    Hyundai  Petrol\n",
       "7603    Maruti  Diesel\n",
       "7270    Maruti  Petrol\n",
       "\n",
       "[6502 rows x 2 columns]"
      ]
     },
     "execution_count": 44,
     "metadata": {},
     "output_type": "execute_result"
    }
   ],
   "source": [
    "X_train"
   ]
  },
  {
   "cell_type": "code",
   "execution_count": 45,
   "metadata": {
    "id": "zeeABX5bTl-P"
   },
   "outputs": [],
   "source": [
    "from sklearn.preprocessing import OneHotEncoder"
   ]
  },
  {
   "cell_type": "code",
   "execution_count": 46,
   "metadata": {
    "id": "_cNsyeXSTthx"
   },
   "outputs": [],
   "source": [
    "ohe = OneHotEncoder()"
   ]
  },
  {
   "cell_type": "code",
   "execution_count": 47,
   "metadata": {
    "id": "lso6XwecTxVI"
   },
   "outputs": [],
   "source": [
    "ohe = OneHotEncoder(sparse_output=False)"
   ]
  },
  {
   "cell_type": "code",
   "execution_count": 48,
   "metadata": {
    "colab": {
     "base_uri": "https://localhost:8080/",
     "height": 443
    },
    "id": "xFVXep46T0Lb",
    "outputId": "8a9b2336-50a1-4902-e9f5-dcf065b4d833"
   },
   "outputs": [
    {
     "data": {
      "text/plain": [
       "array([[0., 0., 0., ..., 0., 0., 1.],\n",
       "       [0., 0., 0., ..., 0., 0., 1.],\n",
       "       [0., 0., 0., ..., 1., 0., 0.],\n",
       "       ...,\n",
       "       [0., 0., 0., ..., 0., 0., 1.],\n",
       "       [0., 0., 0., ..., 1., 0., 0.],\n",
       "       [0., 0., 0., ..., 0., 0., 1.]], shape=(6502, 36))"
      ]
     },
     "execution_count": 48,
     "metadata": {},
     "output_type": "execute_result"
    }
   ],
   "source": [
    "X_train = ohe.fit_transform(X_train)\n",
    "X_train"
   ]
  },
  {
   "cell_type": "code",
   "execution_count": 49,
   "metadata": {
    "colab": {
     "base_uri": "https://localhost:8080/"
    },
    "id": "FX8L7MAST7Hj",
    "outputId": "df00b0cc-7e62-4d84-996c-93e795434959"
   },
   "outputs": [
    {
     "data": {
      "text/plain": [
       "(6502, 36)"
      ]
     },
     "execution_count": 49,
     "metadata": {},
     "output_type": "execute_result"
    }
   ],
   "source": [
    "X_train.shape"
   ]
  },
  {
   "cell_type": "code",
   "execution_count": 50,
   "metadata": {
    "colab": {
     "base_uri": "https://localhost:8080/"
    },
    "id": "fk69sXkJT_wM",
    "outputId": "e255a76a-bf4f-4a2a-919f-b8a12f2f852e"
   },
   "outputs": [
    {
     "data": {
      "text/plain": [
       "[array(['Ambassador', 'Ashok', 'Audi', 'BMW', 'Chevrolet', 'Daewoo',\n",
       "        'Datsun', 'Fiat', 'Force', 'Ford', 'Honda', 'Hyundai', 'Isuzu',\n",
       "        'Jaguar', 'Jeep', 'Kia', 'Land', 'Lexus', 'MG', 'Mahindra',\n",
       "        'Maruti', 'Mercedes-Benz', 'Mitsubishi', 'Nissan', 'Opel',\n",
       "        'Peugeot', 'Renault', 'Skoda', 'Tata', 'Toyota', 'Volkswagen',\n",
       "        'Volvo'], dtype=object),\n",
       " array(['CNG', 'Diesel', 'LPG', 'Petrol'], dtype=object)]"
      ]
     },
     "execution_count": 50,
     "metadata": {},
     "output_type": "execute_result"
    }
   ],
   "source": [
    "ohe.categories_"
   ]
  },
  {
   "cell_type": "code",
   "execution_count": 51,
   "metadata": {
    "colab": {
     "base_uri": "https://localhost:8080/"
    },
    "id": "jyb0qDeTUGQQ",
    "outputId": "fb9ab6ef-3bfc-4543-e3a1-9b860ae8a6ee"
   },
   "outputs": [
    {
     "data": {
      "text/plain": [
       "array(['brand', 'fuel'], dtype=object)"
      ]
     },
     "execution_count": 51,
     "metadata": {},
     "output_type": "execute_result"
    }
   ],
   "source": [
    "ohe.feature_names_in_"
   ]
  },
  {
   "cell_type": "code",
   "execution_count": 52,
   "metadata": {
    "colab": {
     "base_uri": "https://localhost:8080/"
    },
    "id": "sGf_ndciUMbW",
    "outputId": "b019607d-3f9d-4129-b3af-e9697af2897e"
   },
   "outputs": [
    {
     "data": {
      "text/plain": [
       "2"
      ]
     },
     "execution_count": 52,
     "metadata": {},
     "output_type": "execute_result"
    }
   ],
   "source": [
    "ohe.n_features_in_"
   ]
  },
  {
   "cell_type": "code",
   "execution_count": 53,
   "metadata": {
    "colab": {
     "base_uri": "https://localhost:8080/"
    },
    "id": "ApYyWl8Q66Nn",
    "outputId": "6ab767a3-9d33-476e-bee0-0197a7d9904e"
   },
   "outputs": [
    {
     "data": {
      "text/plain": [
       "array(['brand_Ambassador', 'brand_Ashok', 'brand_Audi', 'brand_BMW',\n",
       "       'brand_Chevrolet', 'brand_Daewoo', 'brand_Datsun', 'brand_Fiat',\n",
       "       'brand_Force', 'brand_Ford', 'brand_Honda', 'brand_Hyundai',\n",
       "       'brand_Isuzu', 'brand_Jaguar', 'brand_Jeep', 'brand_Kia',\n",
       "       'brand_Land', 'brand_Lexus', 'brand_MG', 'brand_Mahindra',\n",
       "       'brand_Maruti', 'brand_Mercedes-Benz', 'brand_Mitsubishi',\n",
       "       'brand_Nissan', 'brand_Opel', 'brand_Peugeot', 'brand_Renault',\n",
       "       'brand_Skoda', 'brand_Tata', 'brand_Toyota', 'brand_Volkswagen',\n",
       "       'brand_Volvo', 'fuel_CNG', 'fuel_Diesel', 'fuel_LPG',\n",
       "       'fuel_Petrol'], dtype=object)"
      ]
     },
     "execution_count": 53,
     "metadata": {},
     "output_type": "execute_result"
    }
   ],
   "source": [
    "ohe.get_feature_names_out()"
   ]
  },
  {
   "cell_type": "code",
   "execution_count": 54,
   "metadata": {
    "colab": {
     "base_uri": "https://localhost:8080/",
     "height": 443
    },
    "id": "xltYeyMD6mlc",
    "outputId": "216827be-66ab-4824-ad14-6d71668c52e4"
   },
   "outputs": [
    {
     "data": {
      "text/html": [
       "<div>\n",
       "<style scoped>\n",
       "    .dataframe tbody tr th:only-of-type {\n",
       "        vertical-align: middle;\n",
       "    }\n",
       "\n",
       "    .dataframe tbody tr th {\n",
       "        vertical-align: top;\n",
       "    }\n",
       "\n",
       "    .dataframe thead th {\n",
       "        text-align: right;\n",
       "    }\n",
       "</style>\n",
       "<table border=\"1\" class=\"dataframe\">\n",
       "  <thead>\n",
       "    <tr style=\"text-align: right;\">\n",
       "      <th></th>\n",
       "      <th>brand_Ambassador</th>\n",
       "      <th>brand_Ashok</th>\n",
       "      <th>brand_Audi</th>\n",
       "      <th>brand_BMW</th>\n",
       "      <th>brand_Chevrolet</th>\n",
       "      <th>brand_Daewoo</th>\n",
       "      <th>brand_Datsun</th>\n",
       "      <th>brand_Fiat</th>\n",
       "      <th>brand_Force</th>\n",
       "      <th>brand_Ford</th>\n",
       "      <th>...</th>\n",
       "      <th>brand_Renault</th>\n",
       "      <th>brand_Skoda</th>\n",
       "      <th>brand_Tata</th>\n",
       "      <th>brand_Toyota</th>\n",
       "      <th>brand_Volkswagen</th>\n",
       "      <th>brand_Volvo</th>\n",
       "      <th>fuel_CNG</th>\n",
       "      <th>fuel_Diesel</th>\n",
       "      <th>fuel_LPG</th>\n",
       "      <th>fuel_Petrol</th>\n",
       "    </tr>\n",
       "  </thead>\n",
       "  <tbody>\n",
       "    <tr>\n",
       "      <th>0</th>\n",
       "      <td>0.0</td>\n",
       "      <td>0.0</td>\n",
       "      <td>0.0</td>\n",
       "      <td>0.0</td>\n",
       "      <td>0.0</td>\n",
       "      <td>0.0</td>\n",
       "      <td>0.0</td>\n",
       "      <td>0.0</td>\n",
       "      <td>0.0</td>\n",
       "      <td>0.0</td>\n",
       "      <td>...</td>\n",
       "      <td>0.0</td>\n",
       "      <td>0.0</td>\n",
       "      <td>1.0</td>\n",
       "      <td>0.0</td>\n",
       "      <td>0.0</td>\n",
       "      <td>0.0</td>\n",
       "      <td>0.0</td>\n",
       "      <td>0.0</td>\n",
       "      <td>0.0</td>\n",
       "      <td>1.0</td>\n",
       "    </tr>\n",
       "    <tr>\n",
       "      <th>1</th>\n",
       "      <td>0.0</td>\n",
       "      <td>0.0</td>\n",
       "      <td>0.0</td>\n",
       "      <td>0.0</td>\n",
       "      <td>0.0</td>\n",
       "      <td>0.0</td>\n",
       "      <td>0.0</td>\n",
       "      <td>0.0</td>\n",
       "      <td>0.0</td>\n",
       "      <td>0.0</td>\n",
       "      <td>...</td>\n",
       "      <td>0.0</td>\n",
       "      <td>0.0</td>\n",
       "      <td>0.0</td>\n",
       "      <td>0.0</td>\n",
       "      <td>0.0</td>\n",
       "      <td>0.0</td>\n",
       "      <td>0.0</td>\n",
       "      <td>0.0</td>\n",
       "      <td>0.0</td>\n",
       "      <td>1.0</td>\n",
       "    </tr>\n",
       "    <tr>\n",
       "      <th>2</th>\n",
       "      <td>0.0</td>\n",
       "      <td>0.0</td>\n",
       "      <td>0.0</td>\n",
       "      <td>0.0</td>\n",
       "      <td>0.0</td>\n",
       "      <td>0.0</td>\n",
       "      <td>0.0</td>\n",
       "      <td>0.0</td>\n",
       "      <td>0.0</td>\n",
       "      <td>0.0</td>\n",
       "      <td>...</td>\n",
       "      <td>0.0</td>\n",
       "      <td>0.0</td>\n",
       "      <td>0.0</td>\n",
       "      <td>0.0</td>\n",
       "      <td>0.0</td>\n",
       "      <td>0.0</td>\n",
       "      <td>0.0</td>\n",
       "      <td>1.0</td>\n",
       "      <td>0.0</td>\n",
       "      <td>0.0</td>\n",
       "    </tr>\n",
       "    <tr>\n",
       "      <th>3</th>\n",
       "      <td>0.0</td>\n",
       "      <td>0.0</td>\n",
       "      <td>0.0</td>\n",
       "      <td>0.0</td>\n",
       "      <td>0.0</td>\n",
       "      <td>0.0</td>\n",
       "      <td>0.0</td>\n",
       "      <td>0.0</td>\n",
       "      <td>0.0</td>\n",
       "      <td>0.0</td>\n",
       "      <td>...</td>\n",
       "      <td>0.0</td>\n",
       "      <td>0.0</td>\n",
       "      <td>0.0</td>\n",
       "      <td>0.0</td>\n",
       "      <td>0.0</td>\n",
       "      <td>0.0</td>\n",
       "      <td>0.0</td>\n",
       "      <td>1.0</td>\n",
       "      <td>0.0</td>\n",
       "      <td>0.0</td>\n",
       "    </tr>\n",
       "    <tr>\n",
       "      <th>4</th>\n",
       "      <td>0.0</td>\n",
       "      <td>0.0</td>\n",
       "      <td>0.0</td>\n",
       "      <td>0.0</td>\n",
       "      <td>0.0</td>\n",
       "      <td>0.0</td>\n",
       "      <td>0.0</td>\n",
       "      <td>0.0</td>\n",
       "      <td>0.0</td>\n",
       "      <td>0.0</td>\n",
       "      <td>...</td>\n",
       "      <td>0.0</td>\n",
       "      <td>0.0</td>\n",
       "      <td>0.0</td>\n",
       "      <td>0.0</td>\n",
       "      <td>0.0</td>\n",
       "      <td>0.0</td>\n",
       "      <td>0.0</td>\n",
       "      <td>0.0</td>\n",
       "      <td>0.0</td>\n",
       "      <td>1.0</td>\n",
       "    </tr>\n",
       "    <tr>\n",
       "      <th>...</th>\n",
       "      <td>...</td>\n",
       "      <td>...</td>\n",
       "      <td>...</td>\n",
       "      <td>...</td>\n",
       "      <td>...</td>\n",
       "      <td>...</td>\n",
       "      <td>...</td>\n",
       "      <td>...</td>\n",
       "      <td>...</td>\n",
       "      <td>...</td>\n",
       "      <td>...</td>\n",
       "      <td>...</td>\n",
       "      <td>...</td>\n",
       "      <td>...</td>\n",
       "      <td>...</td>\n",
       "      <td>...</td>\n",
       "      <td>...</td>\n",
       "      <td>...</td>\n",
       "      <td>...</td>\n",
       "      <td>...</td>\n",
       "      <td>...</td>\n",
       "    </tr>\n",
       "    <tr>\n",
       "      <th>6497</th>\n",
       "      <td>0.0</td>\n",
       "      <td>0.0</td>\n",
       "      <td>0.0</td>\n",
       "      <td>0.0</td>\n",
       "      <td>0.0</td>\n",
       "      <td>0.0</td>\n",
       "      <td>0.0</td>\n",
       "      <td>0.0</td>\n",
       "      <td>0.0</td>\n",
       "      <td>0.0</td>\n",
       "      <td>...</td>\n",
       "      <td>0.0</td>\n",
       "      <td>0.0</td>\n",
       "      <td>0.0</td>\n",
       "      <td>0.0</td>\n",
       "      <td>0.0</td>\n",
       "      <td>0.0</td>\n",
       "      <td>0.0</td>\n",
       "      <td>1.0</td>\n",
       "      <td>0.0</td>\n",
       "      <td>0.0</td>\n",
       "    </tr>\n",
       "    <tr>\n",
       "      <th>6498</th>\n",
       "      <td>0.0</td>\n",
       "      <td>0.0</td>\n",
       "      <td>0.0</td>\n",
       "      <td>0.0</td>\n",
       "      <td>0.0</td>\n",
       "      <td>0.0</td>\n",
       "      <td>0.0</td>\n",
       "      <td>0.0</td>\n",
       "      <td>0.0</td>\n",
       "      <td>0.0</td>\n",
       "      <td>...</td>\n",
       "      <td>0.0</td>\n",
       "      <td>0.0</td>\n",
       "      <td>0.0</td>\n",
       "      <td>0.0</td>\n",
       "      <td>0.0</td>\n",
       "      <td>0.0</td>\n",
       "      <td>0.0</td>\n",
       "      <td>1.0</td>\n",
       "      <td>0.0</td>\n",
       "      <td>0.0</td>\n",
       "    </tr>\n",
       "    <tr>\n",
       "      <th>6499</th>\n",
       "      <td>0.0</td>\n",
       "      <td>0.0</td>\n",
       "      <td>0.0</td>\n",
       "      <td>0.0</td>\n",
       "      <td>0.0</td>\n",
       "      <td>0.0</td>\n",
       "      <td>0.0</td>\n",
       "      <td>0.0</td>\n",
       "      <td>0.0</td>\n",
       "      <td>0.0</td>\n",
       "      <td>...</td>\n",
       "      <td>0.0</td>\n",
       "      <td>0.0</td>\n",
       "      <td>0.0</td>\n",
       "      <td>0.0</td>\n",
       "      <td>0.0</td>\n",
       "      <td>0.0</td>\n",
       "      <td>0.0</td>\n",
       "      <td>0.0</td>\n",
       "      <td>0.0</td>\n",
       "      <td>1.0</td>\n",
       "    </tr>\n",
       "    <tr>\n",
       "      <th>6500</th>\n",
       "      <td>0.0</td>\n",
       "      <td>0.0</td>\n",
       "      <td>0.0</td>\n",
       "      <td>0.0</td>\n",
       "      <td>0.0</td>\n",
       "      <td>0.0</td>\n",
       "      <td>0.0</td>\n",
       "      <td>0.0</td>\n",
       "      <td>0.0</td>\n",
       "      <td>0.0</td>\n",
       "      <td>...</td>\n",
       "      <td>0.0</td>\n",
       "      <td>0.0</td>\n",
       "      <td>0.0</td>\n",
       "      <td>0.0</td>\n",
       "      <td>0.0</td>\n",
       "      <td>0.0</td>\n",
       "      <td>0.0</td>\n",
       "      <td>1.0</td>\n",
       "      <td>0.0</td>\n",
       "      <td>0.0</td>\n",
       "    </tr>\n",
       "    <tr>\n",
       "      <th>6501</th>\n",
       "      <td>0.0</td>\n",
       "      <td>0.0</td>\n",
       "      <td>0.0</td>\n",
       "      <td>0.0</td>\n",
       "      <td>0.0</td>\n",
       "      <td>0.0</td>\n",
       "      <td>0.0</td>\n",
       "      <td>0.0</td>\n",
       "      <td>0.0</td>\n",
       "      <td>0.0</td>\n",
       "      <td>...</td>\n",
       "      <td>0.0</td>\n",
       "      <td>0.0</td>\n",
       "      <td>0.0</td>\n",
       "      <td>0.0</td>\n",
       "      <td>0.0</td>\n",
       "      <td>0.0</td>\n",
       "      <td>0.0</td>\n",
       "      <td>0.0</td>\n",
       "      <td>0.0</td>\n",
       "      <td>1.0</td>\n",
       "    </tr>\n",
       "  </tbody>\n",
       "</table>\n",
       "<p>6502 rows × 36 columns</p>\n",
       "</div>"
      ],
      "text/plain": [
       "      brand_Ambassador  brand_Ashok  brand_Audi  brand_BMW  brand_Chevrolet  \\\n",
       "0                  0.0          0.0         0.0        0.0              0.0   \n",
       "1                  0.0          0.0         0.0        0.0              0.0   \n",
       "2                  0.0          0.0         0.0        0.0              0.0   \n",
       "3                  0.0          0.0         0.0        0.0              0.0   \n",
       "4                  0.0          0.0         0.0        0.0              0.0   \n",
       "...                ...          ...         ...        ...              ...   \n",
       "6497               0.0          0.0         0.0        0.0              0.0   \n",
       "6498               0.0          0.0         0.0        0.0              0.0   \n",
       "6499               0.0          0.0         0.0        0.0              0.0   \n",
       "6500               0.0          0.0         0.0        0.0              0.0   \n",
       "6501               0.0          0.0         0.0        0.0              0.0   \n",
       "\n",
       "      brand_Daewoo  brand_Datsun  brand_Fiat  brand_Force  brand_Ford  ...  \\\n",
       "0              0.0           0.0         0.0          0.0         0.0  ...   \n",
       "1              0.0           0.0         0.0          0.0         0.0  ...   \n",
       "2              0.0           0.0         0.0          0.0         0.0  ...   \n",
       "3              0.0           0.0         0.0          0.0         0.0  ...   \n",
       "4              0.0           0.0         0.0          0.0         0.0  ...   \n",
       "...            ...           ...         ...          ...         ...  ...   \n",
       "6497           0.0           0.0         0.0          0.0         0.0  ...   \n",
       "6498           0.0           0.0         0.0          0.0         0.0  ...   \n",
       "6499           0.0           0.0         0.0          0.0         0.0  ...   \n",
       "6500           0.0           0.0         0.0          0.0         0.0  ...   \n",
       "6501           0.0           0.0         0.0          0.0         0.0  ...   \n",
       "\n",
       "      brand_Renault  brand_Skoda  brand_Tata  brand_Toyota  brand_Volkswagen  \\\n",
       "0               0.0          0.0         1.0           0.0               0.0   \n",
       "1               0.0          0.0         0.0           0.0               0.0   \n",
       "2               0.0          0.0         0.0           0.0               0.0   \n",
       "3               0.0          0.0         0.0           0.0               0.0   \n",
       "4               0.0          0.0         0.0           0.0               0.0   \n",
       "...             ...          ...         ...           ...               ...   \n",
       "6497            0.0          0.0         0.0           0.0               0.0   \n",
       "6498            0.0          0.0         0.0           0.0               0.0   \n",
       "6499            0.0          0.0         0.0           0.0               0.0   \n",
       "6500            0.0          0.0         0.0           0.0               0.0   \n",
       "6501            0.0          0.0         0.0           0.0               0.0   \n",
       "\n",
       "      brand_Volvo  fuel_CNG  fuel_Diesel  fuel_LPG  fuel_Petrol  \n",
       "0             0.0       0.0          0.0       0.0          1.0  \n",
       "1             0.0       0.0          0.0       0.0          1.0  \n",
       "2             0.0       0.0          1.0       0.0          0.0  \n",
       "3             0.0       0.0          1.0       0.0          0.0  \n",
       "4             0.0       0.0          0.0       0.0          1.0  \n",
       "...           ...       ...          ...       ...          ...  \n",
       "6497          0.0       0.0          1.0       0.0          0.0  \n",
       "6498          0.0       0.0          1.0       0.0          0.0  \n",
       "6499          0.0       0.0          0.0       0.0          1.0  \n",
       "6500          0.0       0.0          1.0       0.0          0.0  \n",
       "6501          0.0       0.0          0.0       0.0          1.0  \n",
       "\n",
       "[6502 rows x 36 columns]"
      ]
     },
     "execution_count": 54,
     "metadata": {},
     "output_type": "execute_result"
    }
   ],
   "source": [
    "pd.DataFrame(data = X_train,columns = ohe.get_feature_names_out())"
   ]
  },
  {
   "cell_type": "code",
   "execution_count": 55,
   "metadata": {
    "colab": {
     "base_uri": "https://localhost:8080/"
    },
    "id": "SFH7glrZVcJ6",
    "outputId": "62fb0ff6-0ab2-4ef5-e5f0-0ca8a72e3127"
   },
   "outputs": [
    {
     "data": {
      "text/plain": [
       "array([['Mercedes-Benz', 'Petrol']], dtype=object)"
      ]
     },
     "execution_count": 55,
     "metadata": {},
     "output_type": "execute_result"
    }
   ],
   "source": [
    "ohe.inverse_transform(np.array([0., 0., 0., 0., 0., 0., 0., 0., 0., 0., 0., 0., 0., 0., 0.,\n",
    "       0., 0., 0., 0., 0., 0., 1., 0., 0., 0., 0., 0., 0., 0., 0., 0., 0.,\n",
    "       0., 0. , 0. , 1.]).reshape(1,36))"
   ]
  },
  {
   "cell_type": "markdown",
   "metadata": {
    "id": "XhQDcV_X-6_z"
   },
   "source": [
    "# The Dummy Variable Trap\n",
    "\n",
    "The **Dummy Variable Trap** is a scenario where features created by one-hot encoding are perfectly correlated. This perfect correlation, known as **perfect multicollinearity**, can be a problem for statistical models that expect features to be independent, such as Linear and Logistic Regression.\n",
    "\n",
    "---\n",
    "\n",
    "## Why Does It Happen?\n",
    "\n",
    "When we one-hot encode a categorical feature with '$k$' categories, we create '$k$' new binary columns (dummy variables). The trap occurs because the information in these '$k$' columns is redundant—the value of any one column can be perfectly predicted from the values of the others.\n",
    "\n",
    "For example, if we have a feature \"Season\" with four categories (Winter, Spring, Summer, Fall), we create four dummy variables.\n",
    "\n",
    "| Season_Winter | Season_Spring | Season_Summer | Season_Fall |\n",
    "| :-----------: | :-----------: | :-----------: | :-----------: |\n",
    "|       1       |       0       |       0       |       0       |\n",
    "|       0       |       1       |       0       |       0       |\n",
    "|       0       |       0       |       1       |       0       |\n",
    "\n",
    "If a row is not Winter, Spring, or Summer, it *must* be Fall. This means:\n",
    "$$\\text{Season_Winter} + \\text{Season_Spring} + \\text{Season_Summer} + \\text{Season_Fall} = 1$$\n",
    "\n",
    "This perfect relationship confuses linear models because they can't determine the independent influence of each category on the outcome.\n",
    "\n",
    "---\n",
    "\n",
    "## The Solution: Drop One Column\n",
    "\n",
    "The solution is simple: for a feature with '$k$' categories, we only use **$k-1$** dummy variables.\n",
    "\n",
    "We drop one of the columns. The dropped category becomes the **baseline** or **reference category**. Its effect is captured by the model's intercept, and it is represented by a row where all the other dummy variables for that feature are zero.\n",
    "\n",
    "**Example (Dropping `Season_Fall`):**\n",
    "\n",
    "| Original | Season_Winter | Season_Spring | Season_Summer | Interpretation                       |\n",
    "| :------: | :-----------: | :-----------: | :-----------: | ------------------------------------ |\n",
    "|  Winter  |       1       |       0       |       0       | It is Winter.                        |\n",
    "|  Spring  |       0       |       1       |       0       | It is Spring.                        |\n",
    "|  Summer  |       0       |       0       |       1       | It is Summer.                        |\n",
    "|   Fall   |     **0** |     **0** |     **0** | It is not Winter, Spring, or Summer. |\n",
    "\n",
    "---\n",
    "\n",
    "## When Should You Care ?\n",
    "\n",
    "You primarily need to worry about the dummy variable trap when using models that are sensitive to multicollinearity.\n",
    "\n",
    "* **Affected Models:**\n",
    "    * Linear Regression\n",
    "    * Logistic Regression\n",
    "    * Linear Discriminant Analysis (LDA)\n",
    "\n",
    "* **Unaffected Models:**\n",
    "    * Decision Trees\n",
    "    * Random Forest\n",
    "    * XGBoost / Gradient Boosting\n",
    "    * K-Nearest Neighbors (KNN)\n",
    "\n",
    "Tree-based models are generally immune because they select features one at a time and do not rely on the same mathematical assumptions as linear models.\n",
    "\n",
    "---\n",
    "\n",
    "## Practical Implementation\n",
    "\n",
    "Most data science libraries have a simple parameter to handle this automatically:\n",
    "\n",
    "* **Pandas:** `pd.get_dummies(df, drop_first=True)`\n",
    "* **Scikit-learn:** `OneHotEncoder(drop='first')`"
   ]
  },
  {
   "cell_type": "code",
   "execution_count": 56,
   "metadata": {
    "colab": {
     "base_uri": "https://localhost:8080/"
    },
    "id": "hCpKS7RrWCNQ",
    "outputId": "7f41bea2-4130-48b3-a1ac-79d7885cb86d"
   },
   "outputs": [
    {
     "data": {
      "text/plain": [
       "(6502, 34)"
      ]
     },
     "execution_count": 56,
     "metadata": {},
     "output_type": "execute_result"
    }
   ],
   "source": [
    "X = cars.iloc[:,0:2]\n",
    "y = cars.iloc[:,-1]\n",
    "\n",
    "X_train,X_test,y_train,y_test = train_test_split(X,y,test_size=0.2,random_state=42)\n",
    "\n",
    "ohe = OneHotEncoder(drop='first',sparse_output=False)\n",
    "ohe.fit_transform(X_train).shape"
   ]
  },
  {
   "cell_type": "code",
   "execution_count": 57,
   "metadata": {
    "colab": {
     "base_uri": "https://localhost:8080/"
    },
    "id": "Kb7QX83oWJmV",
    "outputId": "f66f34ed-8b4c-456a-8e76-f2eb21a01a78"
   },
   "outputs": [
    {
     "data": {
      "text/plain": [
       "array([0, 0], dtype=object)"
      ]
     },
     "execution_count": 57,
     "metadata": {},
     "output_type": "execute_result"
    }
   ],
   "source": [
    "ohe.drop_idx_"
   ]
  },
  {
   "cell_type": "code",
   "execution_count": 58,
   "metadata": {
    "colab": {
     "base_uri": "https://localhost:8080/",
     "height": 1000
    },
    "id": "kcyHtYTxfCfM",
    "outputId": "f19ce35e-a59e-4e9c-8942-9b523ec8aaa6"
   },
   "outputs": [
    {
     "data": {
      "text/plain": [
       "brand\n",
       "Maruti           1953\n",
       "Hyundai          1127\n",
       "Mahindra          635\n",
       "Tata              586\n",
       "Toyota            391\n",
       "Honda             369\n",
       "Ford              320\n",
       "Chevrolet         185\n",
       "Renault           183\n",
       "Volkswagen        154\n",
       "BMW                96\n",
       "Skoda              82\n",
       "Nissan             62\n",
       "Jaguar             59\n",
       "Volvo              54\n",
       "Datsun             48\n",
       "Mercedes-Benz      43\n",
       "Fiat               35\n",
       "Audi               30\n",
       "Jeep               26\n",
       "Lexus              22\n",
       "Mitsubishi         13\n",
       "Force               6\n",
       "Land                5\n",
       "Kia                 4\n",
       "Daewoo              3\n",
       "MG                  3\n",
       "Ambassador          3\n",
       "Isuzu               2\n",
       "Ashok               1\n",
       "Peugeot             1\n",
       "Opel                1\n",
       "Name: count, dtype: int64"
      ]
     },
     "execution_count": 58,
     "metadata": {},
     "output_type": "execute_result"
    }
   ],
   "source": [
    "# handling rare categories\n",
    "X_train['brand'].value_counts()"
   ]
  },
  {
   "cell_type": "code",
   "execution_count": 59,
   "metadata": {
    "colab": {
     "base_uri": "https://localhost:8080/",
     "height": 241
    },
    "id": "Td8WNyX_gKaa",
    "outputId": "058da76a-982f-4100-a616-757b9cebb68e"
   },
   "outputs": [
    {
     "data": {
      "text/plain": [
       "fuel\n",
       "Diesel    4402\n",
       "Petrol    3631\n",
       "CNG         57\n",
       "LPG         38\n",
       "Name: count, dtype: int64"
      ]
     },
     "execution_count": 59,
     "metadata": {},
     "output_type": "execute_result"
    }
   ],
   "source": [
    "cars['fuel'].value_counts()"
   ]
  },
  {
   "cell_type": "code",
   "execution_count": 60,
   "metadata": {
    "colab": {
     "base_uri": "https://localhost:8080/"
    },
    "id": "5kgL8yf7gOs8",
    "outputId": "86e45ff7-122b-4c78-cc4f-5f598a1c4e43"
   },
   "outputs": [
    {
     "data": {
      "text/plain": [
       "(6502, 14)"
      ]
     },
     "execution_count": 60,
     "metadata": {},
     "output_type": "execute_result"
    }
   ],
   "source": [
    "# using min frequency\n",
    "\n",
    "ohe = OneHotEncoder(sparse_output=False, min_frequency=100)\n",
    "ohe.fit_transform(X_train).shape"
   ]
  },
  {
   "cell_type": "code",
   "execution_count": 61,
   "metadata": {
    "colab": {
     "base_uri": "https://localhost:8080/"
    },
    "id": "YnwwhRCegvex",
    "outputId": "8eb48381-3d76-4bef-c369-0e23e948b8e7"
   },
   "outputs": [
    {
     "data": {
      "text/plain": [
       "array(['brand_Chevrolet', 'brand_Ford', 'brand_Honda', 'brand_Hyundai',\n",
       "       'brand_Mahindra', 'brand_Maruti', 'brand_Renault', 'brand_Tata',\n",
       "       'brand_Toyota', 'brand_Volkswagen', 'brand_infrequent_sklearn',\n",
       "       'fuel_Diesel', 'fuel_Petrol', 'fuel_infrequent_sklearn'],\n",
       "      dtype=object)"
      ]
     },
     "execution_count": 61,
     "metadata": {},
     "output_type": "execute_result"
    }
   ],
   "source": [
    "ohe.get_feature_names_out()"
   ]
  },
  {
   "cell_type": "code",
   "execution_count": 62,
   "metadata": {
    "colab": {
     "base_uri": "https://localhost:8080/"
    },
    "id": "PvIkPQjug8XV",
    "outputId": "fbf97fe7-c0ff-4bb4-e4ad-741ee9f6ba00"
   },
   "outputs": [
    {
     "data": {
      "text/plain": [
       "(6502, 19)"
      ]
     },
     "execution_count": 62,
     "metadata": {},
     "output_type": "execute_result"
    }
   ],
   "source": [
    "# using max_categories\n",
    "ohe = OneHotEncoder(sparse_output=False, handle_unknown='ignore', max_categories=15)\n",
    "ohe.fit_transform(X_train).shape"
   ]
  },
  {
   "cell_type": "code",
   "execution_count": 63,
   "metadata": {
    "colab": {
     "base_uri": "https://localhost:8080/"
    },
    "id": "6yM143eHhcK-",
    "outputId": "552cbf81-b338-4a3a-f0bf-6d13b07a798f"
   },
   "outputs": [
    {
     "data": {
      "text/plain": [
       "array(['brand_BMW', 'brand_Chevrolet', 'brand_Ford', 'brand_Honda',\n",
       "       'brand_Hyundai', 'brand_Jaguar', 'brand_Mahindra', 'brand_Maruti',\n",
       "       'brand_Nissan', 'brand_Renault', 'brand_Skoda', 'brand_Tata',\n",
       "       'brand_Toyota', 'brand_Volkswagen', 'brand_infrequent_sklearn',\n",
       "       'fuel_CNG', 'fuel_Diesel', 'fuel_LPG', 'fuel_Petrol'], dtype=object)"
      ]
     },
     "execution_count": 63,
     "metadata": {},
     "output_type": "execute_result"
    }
   ],
   "source": [
    "ohe.get_feature_names_out()"
   ]
  },
  {
   "cell_type": "markdown",
   "metadata": {
    "id": "WNDpWvVuC4zs"
   },
   "source": [
    "### Handling Unknown Categories During Prediction (OneHotEncoder)\n",
    "\n",
    "- **Context**:  \n",
    "  After training a model, the **OneHotEncoder** is used again during prediction  \n",
    "  (e.g., when transforming new test data or live user inputs).  \n",
    "  Sometimes, the new data may contain a **category that was never seen** during training.\n",
    "\n",
    "- **Default Behavior (`handle_unknown='error')**:  \n",
    "  - If a new category appears during prediction, the encoder will raise a **ValueError**.\n",
    "  - Example:\n",
    "    - Training categories: `Red`, `Blue`, `Green`\n",
    "    - Prediction data contains: `Yellow`\n",
    "    - ❌ Error: `Found unknown categories ['Yellow'] in column 0 during transform`\n",
    "\n",
    "- **Safe Option (`handle_unknown='ignore')**:  \n",
    "  - When creating the encoder, set:\n",
    "    ```python\n",
    "    OneHotEncoder(handle_unknown='ignore')\n",
    "    ```\n",
    "  - During prediction, any unseen category is encoded as **all zeros** across the dummy columns.\n",
    "  - Example:\n",
    "    - Training categories: `Red`, `Blue`, `Green`\n",
    "    - Prediction contains: `Yellow`\n",
    "    - Encoding for `Yellow` → `[0, 0, 0]`\n",
    "\n",
    "- **Key Takeaways**:\n",
    "  - Always fit the encoder on the **training data only**, and then reuse it for prediction.\n",
    "  - `handle_unknown='ignore'` ensures the model will **not crash** when a new category appears.\n",
    "  - The model interprets an all-zero vector as a **neutral signal** (no known category matched).\n"
   ]
  },
  {
   "cell_type": "code",
   "execution_count": 64,
   "metadata": {
    "colab": {
     "base_uri": "https://localhost:8080/",
     "height": 164
    },
    "id": "_sveyEXElp2y",
    "outputId": "7f27998a-0e09-47ae-b5eb-fd338f08c563"
   },
   "outputs": [
    {
     "name": "stderr",
     "output_type": "stream",
     "text": [
      "C:\\Users\\dell\\AppData\\Local\\Programs\\Python\\Python313\\Lib\\site-packages\\sklearn\\utils\\validation.py:2749: UserWarning: X does not have valid feature names, but OneHotEncoder was fitted with feature names\n",
      "  warnings.warn(\n"
     ]
    },
    {
     "data": {
      "text/plain": [
       "array([[0., 0., 0., 0., 0., 0., 0., 0., 0., 0., 0., 0., 0., 0., 0., 0.,\n",
       "        0., 0., 0., 0., 0., 0., 0., 0., 0., 0., 0., 0., 0., 0., 0., 0.,\n",
       "        0., 0., 0., 1.]])"
      ]
     },
     "execution_count": 64,
     "metadata": {},
     "output_type": "execute_result"
    }
   ],
   "source": [
    "ohe = OneHotEncoder(sparse_output=False, handle_unknown='ignore')\n",
    "ohe.fit_transform(X_train)\n",
    "\n",
    "ohe.transform(np.array(['local','Petrol']).reshape(1,2))"
   ]
  },
  {
   "cell_type": "code",
   "execution_count": 65,
   "metadata": {
    "colab": {
     "base_uri": "https://localhost:8080/"
    },
    "id": "iM1zg98glu2W",
    "outputId": "f68b2fef-ab29-477e-e9bd-7f1f594656db"
   },
   "outputs": [
    {
     "data": {
      "text/plain": [
       "array([[None, 'Petrol']], dtype=object)"
      ]
     },
     "execution_count": 65,
     "metadata": {},
     "output_type": "execute_result"
    }
   ],
   "source": [
    "ohe.inverse_transform(np.array([0., 0., 0., 0., 0., 0., 0., 0., 0., 0., 0., 0., 0., 0., 0., 0.,\n",
    "        0., 0., 0., 0., 0., 0., 0., 0., 0., 0., 0., 0., 0., 0., 0., 0.,\n",
    "        0., 0., 0., 1.]).reshape(1,36))"
   ]
  },
  {
   "cell_type": "markdown",
   "metadata": {
    "id": "BGJBUU4hmwUk"
   },
   "source": [
    "### LabelBinarizer\n",
    "\n",
    "- **Purpose**:  \n",
    "  - `LabelBinarizer` is used to **one-hot encode the target (output) feature**.  \n",
    "  - While `LabelEncoder` converts target categories into **single numeric labels** (0, 1, 2, …),  \n",
    "    sometimes we need the output to be **one-hot encoded** instead of a single number.\n",
    "\n",
    "- **When to Use**:\n",
    "  - Useful in **multi-class classification** problems where the model expects  \n",
    "    one-hot encoded targets.\n",
    "  - Examples:\n",
    "    - **Deep learning** models with a `softmax` output layer.\n",
    "    - **Logistic Regression** with a **one-vs-all** strategy.\n",
    "    - Datasets like **Iris**, where the target feature (`species`) has 3 classes.\n",
    "\n",
    "- **Example**:\n",
    "  Suppose the target `y` contains three categories: `['yes', 'no', 'maybe']`.\n",
    "\n",
    "  - Using `LabelEncoder`:\n",
    "    ```\n",
    "    yes → 2\n",
    "    no  → 0\n",
    "    maybe → 1\n",
    "    ```\n",
    "    ➡️ Only a **single column** with numeric labels.\n",
    "\n",
    "  - Using `LabelBinarizer`:\n",
    "    ```\n",
    "    yes   → [0, 0, 1]\n",
    "    no    → [1, 0, 0]\n",
    "    maybe → [0, 1, 0]\n",
    "    ```\n",
    "    ➡️ **Three new columns** (`y_no`, `y_maybe`, `y_yes`) representing each class.\n",
    "\n",
    "\n"
   ]
  },
  {
   "cell_type": "code",
   "execution_count": 66,
   "metadata": {
    "colab": {
     "base_uri": "https://localhost:8080/"
    },
    "id": "xFSK2YxTmMzC",
    "outputId": "73155445-6af8-4da6-ed68-634c0689d2e3"
   },
   "outputs": [
    {
     "name": "stdout",
     "output_type": "stream",
     "text": [
      "Binarized labels:\n",
      " [[1 0 0]\n",
      " [0 1 0]\n",
      " [0 0 1]\n",
      " [0 1 0]\n",
      " [1 0 0]]\n",
      "Original labels:\n",
      " ['cat' 'dog' 'fish' 'dog' 'cat']\n"
     ]
    }
   ],
   "source": [
    "from sklearn.preprocessing import LabelBinarizer\n",
    "\n",
    "# Sample target variable for a multi-class classification problem\n",
    "y = ['cat', 'dog', 'fish', 'dog', 'cat']\n",
    "\n",
    "# Initialize the LabelBinarizer\n",
    "lb = LabelBinarizer()\n",
    "\n",
    "# Fit and transform the target variable\n",
    "y_binarized = lb.fit_transform(y)\n",
    "\n",
    "print(\"Binarized labels:\\n\", y_binarized)\n",
    "\n",
    "# Inverse transform to recover original labels\n",
    "y_original = lb.inverse_transform(y_binarized)\n",
    "\n",
    "print(\"Original labels:\\n\", y_original)\n"
   ]
  },
  {
   "cell_type": "markdown",
   "metadata": {
    "id": "04b48d56"
   },
   "source": [
    "### MultiLabelBinarizer\n",
    "\n",
    "- **Purpose**:\n",
    "  - Used for **multi-label problems**, where each sample can be associated with **multiple target labels** simultaneously.\n",
    "  - Transforms a list of lists (or similar iterables) of labels into a **binary matrix** where each column corresponds to a unique label and a `1` indicates the presence of that label for a given sample.\n",
    "- **When to Use**:\n",
    "  - When the output column is multi-label. For example, if you have movie summaries and need to identify all applicable genres (a movie can have multiple genres).\n",
    "- **How it Works**:\n",
    "  - It identifies all unique labels across all samples.\n",
    "  - It creates a binary column for each unique label.\n",
    "  - For each sample, it places a `1` in the columns corresponding to the labels present in that sample, and `0` otherwise."
   ]
  },
  {
   "cell_type": "code",
   "execution_count": 67,
   "metadata": {
    "colab": {
     "base_uri": "https://localhost:8080/"
    },
    "id": "THM5IGhsmzdN",
    "outputId": "107b466f-fdf0-44f6-9c54-4a0ba13801c3"
   },
   "outputs": [
    {
     "name": "stdout",
     "output_type": "stream",
     "text": [
      "Binary matrix:\n",
      " [[1 0 1]\n",
      " [1 1 0]\n",
      " [0 1 0]\n",
      " [0 0 1]]\n",
      "Class labels: ['blue' 'green' 'red']\n",
      "Inverse transformed labels: [('blue', 'red'), ('blue', 'green'), ('green',), ('red',)]\n"
     ]
    }
   ],
   "source": [
    "from sklearn.preprocessing import MultiLabelBinarizer\n",
    "\n",
    "# Example multi-label data\n",
    "y = [('red', 'blue'), ('blue', 'green'), ('green',), ('red',)]\n",
    "\n",
    "# Initialize MultiLabelBinarizer\n",
    "mlb = MultiLabelBinarizer()\n",
    "\n",
    "# Fit and transform the data to binary matrix format\n",
    "Y = mlb.fit_transform(y)\n",
    "\n",
    "print(\"Binary matrix:\\n\", Y)\n",
    "print(\"Class labels:\", mlb.classes_)\n",
    "\n",
    "# Inverse transform to recover original labels\n",
    "y_inv = mlb.inverse_transform(Y)\n",
    "print(\"Inverse transformed labels:\", y_inv)\n"
   ]
  },
  {
   "cell_type": "markdown",
   "metadata": {
    "id": "Q4aKN8Z-SfLz"
   },
   "source": [
    "### 3. Count Encoder/Frequency Encoder"
   ]
  },
  {
   "cell_type": "code",
   "execution_count": 70,
   "metadata": {
    "colab": {
     "base_uri": "https://localhost:8080/",
     "height": 206
    },
    "id": "tpWdMkWVSseW",
    "outputId": "c6d20b34-4bd0-4545-d629-1581efc84ff3"
   },
   "outputs": [
    {
     "data": {
      "text/html": [
       "<div>\n",
       "<style scoped>\n",
       "    .dataframe tbody tr th:only-of-type {\n",
       "        vertical-align: middle;\n",
       "    }\n",
       "\n",
       "    .dataframe tbody tr th {\n",
       "        vertical-align: top;\n",
       "    }\n",
       "\n",
       "    .dataframe thead th {\n",
       "        text-align: right;\n",
       "    }\n",
       "</style>\n",
       "<table border=\"1\" class=\"dataframe\">\n",
       "  <thead>\n",
       "    <tr style=\"text-align: right;\">\n",
       "      <th></th>\n",
       "      <th>Age</th>\n",
       "      <th>State</th>\n",
       "      <th>Education</th>\n",
       "      <th>Package</th>\n",
       "    </tr>\n",
       "  </thead>\n",
       "  <tbody>\n",
       "    <tr>\n",
       "      <th>0</th>\n",
       "      <td>33.0</td>\n",
       "      <td>Tamil Nadu</td>\n",
       "      <td>High School</td>\n",
       "      <td>3.676514</td>\n",
       "    </tr>\n",
       "    <tr>\n",
       "      <th>1</th>\n",
       "      <td>52.0</td>\n",
       "      <td>Maharashtra</td>\n",
       "      <td>PG</td>\n",
       "      <td>64.524021</td>\n",
       "    </tr>\n",
       "    <tr>\n",
       "      <th>2</th>\n",
       "      <td>NaN</td>\n",
       "      <td>Karnataka</td>\n",
       "      <td>PG</td>\n",
       "      <td>25.802608</td>\n",
       "    </tr>\n",
       "    <tr>\n",
       "      <th>3</th>\n",
       "      <td>27.0</td>\n",
       "      <td>Tamil Nadu</td>\n",
       "      <td>High School</td>\n",
       "      <td>26.042890</td>\n",
       "    </tr>\n",
       "    <tr>\n",
       "      <th>4</th>\n",
       "      <td>56.0</td>\n",
       "      <td>Karnataka</td>\n",
       "      <td>High School</td>\n",
       "      <td>76.116772</td>\n",
       "    </tr>\n",
       "  </tbody>\n",
       "</table>\n",
       "</div>"
      ],
      "text/plain": [
       "    Age        State    Education    Package\n",
       "0  33.0   Tamil Nadu  High School   3.676514\n",
       "1  52.0  Maharashtra           PG  64.524021\n",
       "2   NaN    Karnataka           PG  25.802608\n",
       "3  27.0   Tamil Nadu  High School  26.042890\n",
       "4  56.0    Karnataka  High School  76.116772"
      ]
     },
     "execution_count": 70,
     "metadata": {},
     "output_type": "execute_result"
    }
   ],
   "source": [
    "# dataset generation\n",
    "import pandas as pd\n",
    "import numpy as np\n",
    "import category_encoders as ce\n",
    "\n",
    "# Simulating a dataset\n",
    "data = {\n",
    "    'Age': np.random.randint(20, 60, size=100).astype(float),  # Random ages between 20 and 60\n",
    "    'State': np.random.choice(['Karnataka', 'Tamil Nadu', 'Maharashtra', 'Delhi', 'Telangana'], size=100),\n",
    "    'Education': np.random.choice(['High School', 'UG', 'PG'], size=100),\n",
    "    'Package': np.random.rand(100) * 100  # Random package values for demonstration\n",
    "}\n",
    "\n",
    "# Introducing missing values in 'Age' column (5%)\n",
    "np.random.seed(0)  # For reproducibility\n",
    "missing_indices = np.random.choice(data['Age'].shape[0], replace=False, size=int(data['Age'].shape[0] * 0.05))\n",
    "data['Age'][missing_indices] = np.nan\n",
    "\n",
    "df = pd.DataFrame(data)\n",
    "\n",
    "df.head()"
   ]
  },
  {
   "cell_type": "code",
   "execution_count": 71,
   "metadata": {
    "id": "AkUd7R7YXxJR"
   },
   "outputs": [],
   "source": [
    "from sklearn.model_selection import train_test_split\n",
    "\n",
    "X_train, X_test, y_train, y_test = train_test_split(df.drop(columns=['Package']), df['Package'], test_size=0.2, random_state=42)"
   ]
  },
  {
   "cell_type": "code",
   "execution_count": 72,
   "metadata": {
    "colab": {
     "base_uri": "https://localhost:8080/",
     "height": 206
    },
    "id": "2RvTw_etFGch",
    "outputId": "6ace2565-715b-4b5d-93c2-6988afb8c569"
   },
   "outputs": [
    {
     "data": {
      "text/html": [
       "<div>\n",
       "<style scoped>\n",
       "    .dataframe tbody tr th:only-of-type {\n",
       "        vertical-align: middle;\n",
       "    }\n",
       "\n",
       "    .dataframe tbody tr th {\n",
       "        vertical-align: top;\n",
       "    }\n",
       "\n",
       "    .dataframe thead th {\n",
       "        text-align: right;\n",
       "    }\n",
       "</style>\n",
       "<table border=\"1\" class=\"dataframe\">\n",
       "  <thead>\n",
       "    <tr style=\"text-align: right;\">\n",
       "      <th></th>\n",
       "      <th>Age</th>\n",
       "      <th>State</th>\n",
       "      <th>Education</th>\n",
       "    </tr>\n",
       "  </thead>\n",
       "  <tbody>\n",
       "    <tr>\n",
       "      <th>55</th>\n",
       "      <td>NaN</td>\n",
       "      <td>Tamil Nadu</td>\n",
       "      <td>High School</td>\n",
       "    </tr>\n",
       "    <tr>\n",
       "      <th>88</th>\n",
       "      <td>41.0</td>\n",
       "      <td>Delhi</td>\n",
       "      <td>UG</td>\n",
       "    </tr>\n",
       "    <tr>\n",
       "      <th>26</th>\n",
       "      <td>NaN</td>\n",
       "      <td>Delhi</td>\n",
       "      <td>PG</td>\n",
       "    </tr>\n",
       "    <tr>\n",
       "      <th>42</th>\n",
       "      <td>31.0</td>\n",
       "      <td>Telangana</td>\n",
       "      <td>High School</td>\n",
       "    </tr>\n",
       "    <tr>\n",
       "      <th>69</th>\n",
       "      <td>33.0</td>\n",
       "      <td>Telangana</td>\n",
       "      <td>UG</td>\n",
       "    </tr>\n",
       "  </tbody>\n",
       "</table>\n",
       "</div>"
      ],
      "text/plain": [
       "     Age       State    Education\n",
       "55   NaN  Tamil Nadu  High School\n",
       "88  41.0       Delhi           UG\n",
       "26   NaN       Delhi           PG\n",
       "42  31.0   Telangana  High School\n",
       "69  33.0   Telangana           UG"
      ]
     },
     "execution_count": 72,
     "metadata": {},
     "output_type": "execute_result"
    }
   ],
   "source": [
    "X_train.head()"
   ]
  },
  {
   "cell_type": "code",
   "execution_count": 73,
   "metadata": {
    "colab": {
     "base_uri": "https://localhost:8080/",
     "height": 272
    },
    "id": "Y4ja7xCYE6Q1",
    "outputId": "78d540a5-9072-4834-b0c7-7a1cf3b3bf37"
   },
   "outputs": [
    {
     "data": {
      "text/plain": [
       "State\n",
       "Delhi          22\n",
       "Telangana      19\n",
       "Tamil Nadu     15\n",
       "Karnataka      15\n",
       "Maharashtra     9\n",
       "Name: count, dtype: int64"
      ]
     },
     "execution_count": 73,
     "metadata": {},
     "output_type": "execute_result"
    }
   ],
   "source": [
    "X_train['State'].value_counts()"
   ]
  },
  {
   "cell_type": "code",
   "execution_count": 74,
   "metadata": {
    "id": "Vo2sR_JLWLaQ"
   },
   "outputs": [],
   "source": [
    "from sklearn.compose import ColumnTransformer\n",
    "from sklearn.impute import SimpleImputer\n",
    "from sklearn.preprocessing import OrdinalEncoder\n",
    "from sklearn.base import BaseEstimator, TransformerMixin\n",
    "import pandas as pd\n",
    "import sklearn"
   ]
  },
  {
   "cell_type": "code",
   "execution_count": 75,
   "metadata": {
    "id": "A3_5NP6wXaYs"
   },
   "outputs": [],
   "source": [
    "class CountEncoder(BaseEstimator, TransformerMixin):\n",
    "    def __init__(self, columns=None):\n",
    "        self.columns = columns\n",
    "        self.count_map = {}\n",
    "\n",
    "    def fit(self, X, y=None):\n",
    "        if self.columns is None:\n",
    "            self.columns = X.columns\n",
    "        for col in self.columns:\n",
    "            self.count_map[col] = X[col].value_counts().to_dict()\n",
    "        return self\n",
    "\n",
    "    def transform(self, X):\n",
    "        X = X.copy()\n",
    "        for col in self.columns:\n",
    "            X[col] = X[col].map(self.count_map[col]).fillna(0)\n",
    "        return X"
   ]
  },
  {
   "cell_type": "code",
   "execution_count": 76,
   "metadata": {
    "id": "Fc1Ti-J4Ws1i"
   },
   "outputs": [],
   "source": [
    "preprocessor = ColumnTransformer(\n",
    "    transformers=[\n",
    "        ('age_missing', SimpleImputer(strategy='mean'), ['Age']),\n",
    "        ('cat_state', CountEncoder(), ['State']),\n",
    "        ('education_ordinal', OrdinalEncoder(), ['Education'])\n",
    "    ])\n",
    "\n",
    "sklearn.set_config(transform_output=\"pandas\")"
   ]
  },
  {
   "cell_type": "code",
   "execution_count": 77,
   "metadata": {
    "colab": {
     "base_uri": "https://localhost:8080/",
     "height": 423
    },
    "id": "hThTmIrUXulG",
    "outputId": "b8d1b56f-2c5d-4e5b-d08c-ece939f782d4"
   },
   "outputs": [
    {
     "data": {
      "text/html": [
       "<div>\n",
       "<style scoped>\n",
       "    .dataframe tbody tr th:only-of-type {\n",
       "        vertical-align: middle;\n",
       "    }\n",
       "\n",
       "    .dataframe tbody tr th {\n",
       "        vertical-align: top;\n",
       "    }\n",
       "\n",
       "    .dataframe thead th {\n",
       "        text-align: right;\n",
       "    }\n",
       "</style>\n",
       "<table border=\"1\" class=\"dataframe\">\n",
       "  <thead>\n",
       "    <tr style=\"text-align: right;\">\n",
       "      <th></th>\n",
       "      <th>age_missing__Age</th>\n",
       "      <th>cat_state__State</th>\n",
       "      <th>education_ordinal__Education</th>\n",
       "    </tr>\n",
       "  </thead>\n",
       "  <tbody>\n",
       "    <tr>\n",
       "      <th>55</th>\n",
       "      <td>39.146667</td>\n",
       "      <td>15</td>\n",
       "      <td>0.0</td>\n",
       "    </tr>\n",
       "    <tr>\n",
       "      <th>88</th>\n",
       "      <td>41.000000</td>\n",
       "      <td>22</td>\n",
       "      <td>2.0</td>\n",
       "    </tr>\n",
       "    <tr>\n",
       "      <th>26</th>\n",
       "      <td>39.146667</td>\n",
       "      <td>22</td>\n",
       "      <td>1.0</td>\n",
       "    </tr>\n",
       "    <tr>\n",
       "      <th>42</th>\n",
       "      <td>31.000000</td>\n",
       "      <td>19</td>\n",
       "      <td>0.0</td>\n",
       "    </tr>\n",
       "    <tr>\n",
       "      <th>69</th>\n",
       "      <td>33.000000</td>\n",
       "      <td>19</td>\n",
       "      <td>2.0</td>\n",
       "    </tr>\n",
       "    <tr>\n",
       "      <th>...</th>\n",
       "      <td>...</td>\n",
       "      <td>...</td>\n",
       "      <td>...</td>\n",
       "    </tr>\n",
       "    <tr>\n",
       "      <th>60</th>\n",
       "      <td>37.000000</td>\n",
       "      <td>19</td>\n",
       "      <td>1.0</td>\n",
       "    </tr>\n",
       "    <tr>\n",
       "      <th>71</th>\n",
       "      <td>30.000000</td>\n",
       "      <td>22</td>\n",
       "      <td>0.0</td>\n",
       "    </tr>\n",
       "    <tr>\n",
       "      <th>14</th>\n",
       "      <td>32.000000</td>\n",
       "      <td>19</td>\n",
       "      <td>0.0</td>\n",
       "    </tr>\n",
       "    <tr>\n",
       "      <th>92</th>\n",
       "      <td>33.000000</td>\n",
       "      <td>15</td>\n",
       "      <td>2.0</td>\n",
       "    </tr>\n",
       "    <tr>\n",
       "      <th>51</th>\n",
       "      <td>36.000000</td>\n",
       "      <td>19</td>\n",
       "      <td>0.0</td>\n",
       "    </tr>\n",
       "  </tbody>\n",
       "</table>\n",
       "<p>80 rows × 3 columns</p>\n",
       "</div>"
      ],
      "text/plain": [
       "    age_missing__Age  cat_state__State  education_ordinal__Education\n",
       "55         39.146667                15                           0.0\n",
       "88         41.000000                22                           2.0\n",
       "26         39.146667                22                           1.0\n",
       "42         31.000000                19                           0.0\n",
       "69         33.000000                19                           2.0\n",
       "..               ...               ...                           ...\n",
       "60         37.000000                19                           1.0\n",
       "71         30.000000                22                           0.0\n",
       "14         32.000000                19                           0.0\n",
       "92         33.000000                15                           2.0\n",
       "51         36.000000                19                           0.0\n",
       "\n",
       "[80 rows x 3 columns]"
      ]
     },
     "execution_count": 77,
     "metadata": {},
     "output_type": "execute_result"
    }
   ],
   "source": [
    "preprocessor.fit_transform(X_train)"
   ]
  },
  {
   "cell_type": "code",
   "execution_count": 78,
   "metadata": {
    "id": "THmohRgZYLgo"
   },
   "outputs": [],
   "source": [
    "# using category encoders\n",
    "from category_encoders.count import CountEncoder"
   ]
  },
  {
   "cell_type": "code",
   "execution_count": 79,
   "metadata": {
    "id": "Ar8YLo04Y1j4"
   },
   "outputs": [],
   "source": [
    "preprocessor = ColumnTransformer(\n",
    "    transformers=[\n",
    "        ('age_missing', SimpleImputer(strategy='mean'), ['Age']),\n",
    "        ('cat_state', CountEncoder(normalize=True), ['State']),\n",
    "        ('education_ordinal', OrdinalEncoder(), ['Education'])\n",
    "    ])\n",
    "sklearn.set_config(transform_output=\"pandas\")"
   ]
  },
  {
   "cell_type": "code",
   "execution_count": 80,
   "metadata": {
    "colab": {
     "base_uri": "https://localhost:8080/",
     "height": 423
    },
    "id": "XVIt9eHoY7NN",
    "outputId": "3ad8ff32-b700-491f-c6c1-7003b1e708f8"
   },
   "outputs": [
    {
     "data": {
      "text/html": [
       "<div>\n",
       "<style scoped>\n",
       "    .dataframe tbody tr th:only-of-type {\n",
       "        vertical-align: middle;\n",
       "    }\n",
       "\n",
       "    .dataframe tbody tr th {\n",
       "        vertical-align: top;\n",
       "    }\n",
       "\n",
       "    .dataframe thead th {\n",
       "        text-align: right;\n",
       "    }\n",
       "</style>\n",
       "<table border=\"1\" class=\"dataframe\">\n",
       "  <thead>\n",
       "    <tr style=\"text-align: right;\">\n",
       "      <th></th>\n",
       "      <th>age_missing__Age</th>\n",
       "      <th>cat_state__State</th>\n",
       "      <th>education_ordinal__Education</th>\n",
       "    </tr>\n",
       "  </thead>\n",
       "  <tbody>\n",
       "    <tr>\n",
       "      <th>55</th>\n",
       "      <td>39.146667</td>\n",
       "      <td>0.1875</td>\n",
       "      <td>0.0</td>\n",
       "    </tr>\n",
       "    <tr>\n",
       "      <th>88</th>\n",
       "      <td>41.000000</td>\n",
       "      <td>0.2750</td>\n",
       "      <td>2.0</td>\n",
       "    </tr>\n",
       "    <tr>\n",
       "      <th>26</th>\n",
       "      <td>39.146667</td>\n",
       "      <td>0.2750</td>\n",
       "      <td>1.0</td>\n",
       "    </tr>\n",
       "    <tr>\n",
       "      <th>42</th>\n",
       "      <td>31.000000</td>\n",
       "      <td>0.2375</td>\n",
       "      <td>0.0</td>\n",
       "    </tr>\n",
       "    <tr>\n",
       "      <th>69</th>\n",
       "      <td>33.000000</td>\n",
       "      <td>0.2375</td>\n",
       "      <td>2.0</td>\n",
       "    </tr>\n",
       "    <tr>\n",
       "      <th>...</th>\n",
       "      <td>...</td>\n",
       "      <td>...</td>\n",
       "      <td>...</td>\n",
       "    </tr>\n",
       "    <tr>\n",
       "      <th>60</th>\n",
       "      <td>37.000000</td>\n",
       "      <td>0.2375</td>\n",
       "      <td>1.0</td>\n",
       "    </tr>\n",
       "    <tr>\n",
       "      <th>71</th>\n",
       "      <td>30.000000</td>\n",
       "      <td>0.2750</td>\n",
       "      <td>0.0</td>\n",
       "    </tr>\n",
       "    <tr>\n",
       "      <th>14</th>\n",
       "      <td>32.000000</td>\n",
       "      <td>0.2375</td>\n",
       "      <td>0.0</td>\n",
       "    </tr>\n",
       "    <tr>\n",
       "      <th>92</th>\n",
       "      <td>33.000000</td>\n",
       "      <td>0.1875</td>\n",
       "      <td>2.0</td>\n",
       "    </tr>\n",
       "    <tr>\n",
       "      <th>51</th>\n",
       "      <td>36.000000</td>\n",
       "      <td>0.2375</td>\n",
       "      <td>0.0</td>\n",
       "    </tr>\n",
       "  </tbody>\n",
       "</table>\n",
       "<p>80 rows × 3 columns</p>\n",
       "</div>"
      ],
      "text/plain": [
       "    age_missing__Age  cat_state__State  education_ordinal__Education\n",
       "55         39.146667            0.1875                           0.0\n",
       "88         41.000000            0.2750                           2.0\n",
       "26         39.146667            0.2750                           1.0\n",
       "42         31.000000            0.2375                           0.0\n",
       "69         33.000000            0.2375                           2.0\n",
       "..               ...               ...                           ...\n",
       "60         37.000000            0.2375                           1.0\n",
       "71         30.000000            0.2750                           0.0\n",
       "14         32.000000            0.2375                           0.0\n",
       "92         33.000000            0.1875                           2.0\n",
       "51         36.000000            0.2375                           0.0\n",
       "\n",
       "[80 rows x 3 columns]"
      ]
     },
     "execution_count": 80,
     "metadata": {},
     "output_type": "execute_result"
    }
   ],
   "source": [
    "preprocessor.fit_transform(X_train)"
   ]
  },
  {
   "cell_type": "code",
   "execution_count": 81,
   "metadata": {
    "id": "3R78B_YJZAC7"
   },
   "outputs": [],
   "source": [
    "# frequency encoding"
   ]
  },
  {
   "cell_type": "code",
   "execution_count": 82,
   "metadata": {
    "colab": {
     "base_uri": "https://localhost:8080/",
     "height": 833
    },
    "id": "b1UBat8ubJ7A",
    "outputId": "518e4e64-d168-456f-b2e9-48e85cdb6385"
   },
   "outputs": [
    {
     "data": {
      "text/html": [
       "<div>\n",
       "<style scoped>\n",
       "    .dataframe tbody tr th:only-of-type {\n",
       "        vertical-align: middle;\n",
       "    }\n",
       "\n",
       "    .dataframe tbody tr th {\n",
       "        vertical-align: top;\n",
       "    }\n",
       "\n",
       "    .dataframe thead th {\n",
       "        text-align: right;\n",
       "    }\n",
       "</style>\n",
       "<table border=\"1\" class=\"dataframe\">\n",
       "  <thead>\n",
       "    <tr style=\"text-align: right;\">\n",
       "      <th></th>\n",
       "      <th>State</th>\n",
       "      <th>Education</th>\n",
       "    </tr>\n",
       "  </thead>\n",
       "  <tbody>\n",
       "    <tr>\n",
       "      <th>0</th>\n",
       "      <td>Delhi</td>\n",
       "      <td>PG</td>\n",
       "    </tr>\n",
       "    <tr>\n",
       "      <th>1</th>\n",
       "      <td>Telangana</td>\n",
       "      <td>High School</td>\n",
       "    </tr>\n",
       "    <tr>\n",
       "      <th>2</th>\n",
       "      <td>Maharashtra</td>\n",
       "      <td>High School</td>\n",
       "    </tr>\n",
       "    <tr>\n",
       "      <th>3</th>\n",
       "      <td>Telangana</td>\n",
       "      <td>High School</td>\n",
       "    </tr>\n",
       "    <tr>\n",
       "      <th>4</th>\n",
       "      <td>Telangana</td>\n",
       "      <td>PG</td>\n",
       "    </tr>\n",
       "    <tr>\n",
       "      <th>5</th>\n",
       "      <td>Tamil Nadu</td>\n",
       "      <td>High School</td>\n",
       "    </tr>\n",
       "    <tr>\n",
       "      <th>6</th>\n",
       "      <td>Maharashtra</td>\n",
       "      <td>nan</td>\n",
       "    </tr>\n",
       "    <tr>\n",
       "      <th>7</th>\n",
       "      <td>Maharashtra</td>\n",
       "      <td>High School</td>\n",
       "    </tr>\n",
       "    <tr>\n",
       "      <th>8</th>\n",
       "      <td>Maharashtra</td>\n",
       "      <td>nan</td>\n",
       "    </tr>\n",
       "    <tr>\n",
       "      <th>9</th>\n",
       "      <td>Telangana</td>\n",
       "      <td>nan</td>\n",
       "    </tr>\n",
       "    <tr>\n",
       "      <th>10</th>\n",
       "      <td>Delhi</td>\n",
       "      <td>nan</td>\n",
       "    </tr>\n",
       "    <tr>\n",
       "      <th>11</th>\n",
       "      <td>Maharashtra</td>\n",
       "      <td>PG</td>\n",
       "    </tr>\n",
       "    <tr>\n",
       "      <th>12</th>\n",
       "      <td>nan</td>\n",
       "      <td>PG</td>\n",
       "    </tr>\n",
       "    <tr>\n",
       "      <th>13</th>\n",
       "      <td>Telangana</td>\n",
       "      <td>PG</td>\n",
       "    </tr>\n",
       "    <tr>\n",
       "      <th>14</th>\n",
       "      <td>Tamil Nadu</td>\n",
       "      <td>High School</td>\n",
       "    </tr>\n",
       "    <tr>\n",
       "      <th>15</th>\n",
       "      <td>Delhi</td>\n",
       "      <td>nan</td>\n",
       "    </tr>\n",
       "    <tr>\n",
       "      <th>16</th>\n",
       "      <td>nan</td>\n",
       "      <td>PG</td>\n",
       "    </tr>\n",
       "    <tr>\n",
       "      <th>17</th>\n",
       "      <td>nan</td>\n",
       "      <td>PG</td>\n",
       "    </tr>\n",
       "    <tr>\n",
       "      <th>18</th>\n",
       "      <td>Tamil Nadu</td>\n",
       "      <td>High School</td>\n",
       "    </tr>\n",
       "    <tr>\n",
       "      <th>19</th>\n",
       "      <td>Delhi</td>\n",
       "      <td>PG</td>\n",
       "    </tr>\n",
       "    <tr>\n",
       "      <th>20</th>\n",
       "      <td>Telangana</td>\n",
       "      <td>High School</td>\n",
       "    </tr>\n",
       "    <tr>\n",
       "      <th>21</th>\n",
       "      <td>Karnataka</td>\n",
       "      <td>UG</td>\n",
       "    </tr>\n",
       "    <tr>\n",
       "      <th>22</th>\n",
       "      <td>Delhi</td>\n",
       "      <td>PG</td>\n",
       "    </tr>\n",
       "    <tr>\n",
       "      <th>23</th>\n",
       "      <td>Tamil Nadu</td>\n",
       "      <td>UG</td>\n",
       "    </tr>\n",
       "    <tr>\n",
       "      <th>24</th>\n",
       "      <td>nan</td>\n",
       "      <td>High School</td>\n",
       "    </tr>\n",
       "  </tbody>\n",
       "</table>\n",
       "</div>"
      ],
      "text/plain": [
       "          State    Education\n",
       "0         Delhi           PG\n",
       "1     Telangana  High School\n",
       "2   Maharashtra  High School\n",
       "3     Telangana  High School\n",
       "4     Telangana           PG\n",
       "5    Tamil Nadu  High School\n",
       "6   Maharashtra          nan\n",
       "7   Maharashtra  High School\n",
       "8   Maharashtra          nan\n",
       "9     Telangana          nan\n",
       "10        Delhi          nan\n",
       "11  Maharashtra           PG\n",
       "12          nan           PG\n",
       "13    Telangana           PG\n",
       "14   Tamil Nadu  High School\n",
       "15        Delhi          nan\n",
       "16          nan           PG\n",
       "17          nan           PG\n",
       "18   Tamil Nadu  High School\n",
       "19        Delhi           PG\n",
       "20    Telangana  High School\n",
       "21    Karnataka           UG\n",
       "22        Delhi           PG\n",
       "23   Tamil Nadu           UG\n",
       "24          nan  High School"
      ]
     },
     "execution_count": 82,
     "metadata": {},
     "output_type": "execute_result"
    }
   ],
   "source": [
    "# parameters\n",
    "import pandas as pd\n",
    "import numpy as np\n",
    "import category_encoders as ce\n",
    "\n",
    "# Simulating a dataset\n",
    "np.random.seed(42)  # For reproducibility\n",
    "data = {\n",
    "    'State': np.random.choice(['Karnataka', 'Tamil Nadu', 'Maharashtra', 'Delhi', 'Telangana', np.nan], size=100),\n",
    "    'Education': np.random.choice(['High School', 'UG', 'PG', np.nan], size=100)\n",
    "}\n",
    "df = pd.DataFrame(data)\n",
    "\n",
    "df.head(25)\n"
   ]
  },
  {
   "cell_type": "code",
   "execution_count": 83,
   "metadata": {
    "colab": {
     "base_uri": "https://localhost:8080/",
     "height": 146
    },
    "id": "oPTg0sLpJITN",
    "outputId": "981a46e8-68d9-485f-9e4f-749c49bf74eb"
   },
   "outputs": [
    {
     "data": {
      "text/plain": [
       "State        0\n",
       "Education    0\n",
       "dtype: int64"
      ]
     },
     "execution_count": 83,
     "metadata": {},
     "output_type": "execute_result"
    }
   ],
   "source": [
    "df.isnull().sum()"
   ]
  },
  {
   "cell_type": "code",
   "execution_count": 84,
   "metadata": {
    "id": "8ZyOqnPBnaOl"
   },
   "outputs": [],
   "source": [
    "# Initialize the CountEncoder with various parameters\n",
    "encoder = ce.CountEncoder(\n",
    "    cols=['State', 'Education'],  # Specify columns to encode. None would automatically select categorical columns.\n",
    "    handle_missing='error',  # Treat NaNs as a countable category\n",
    "    handle_unknown='error',  # Treat unknown categories as NaNs (if seen during transform but not in fit)\n",
    ")"
   ]
  },
  {
   "cell_type": "code",
   "execution_count": 85,
   "metadata": {
    "colab": {
     "base_uri": "https://localhost:8080/",
     "height": 423
    },
    "id": "UY8hq0GJncQW",
    "outputId": "cddf316f-192d-4208-f1e3-ebbd33a40244"
   },
   "outputs": [
    {
     "data": {
      "text/html": [
       "<div>\n",
       "<style scoped>\n",
       "    .dataframe tbody tr th:only-of-type {\n",
       "        vertical-align: middle;\n",
       "    }\n",
       "\n",
       "    .dataframe tbody tr th {\n",
       "        vertical-align: top;\n",
       "    }\n",
       "\n",
       "    .dataframe thead th {\n",
       "        text-align: right;\n",
       "    }\n",
       "</style>\n",
       "<table border=\"1\" class=\"dataframe\">\n",
       "  <thead>\n",
       "    <tr style=\"text-align: right;\">\n",
       "      <th></th>\n",
       "      <th>State</th>\n",
       "      <th>Education</th>\n",
       "    </tr>\n",
       "  </thead>\n",
       "  <tbody>\n",
       "    <tr>\n",
       "      <th>0</th>\n",
       "      <td>25</td>\n",
       "      <td>34</td>\n",
       "    </tr>\n",
       "    <tr>\n",
       "      <th>1</th>\n",
       "      <td>17</td>\n",
       "      <td>27</td>\n",
       "    </tr>\n",
       "    <tr>\n",
       "      <th>2</th>\n",
       "      <td>11</td>\n",
       "      <td>27</td>\n",
       "    </tr>\n",
       "    <tr>\n",
       "      <th>3</th>\n",
       "      <td>17</td>\n",
       "      <td>27</td>\n",
       "    </tr>\n",
       "    <tr>\n",
       "      <th>4</th>\n",
       "      <td>17</td>\n",
       "      <td>34</td>\n",
       "    </tr>\n",
       "    <tr>\n",
       "      <th>...</th>\n",
       "      <td>...</td>\n",
       "      <td>...</td>\n",
       "    </tr>\n",
       "    <tr>\n",
       "      <th>95</th>\n",
       "      <td>25</td>\n",
       "      <td>27</td>\n",
       "    </tr>\n",
       "    <tr>\n",
       "      <th>96</th>\n",
       "      <td>25</td>\n",
       "      <td>16</td>\n",
       "    </tr>\n",
       "    <tr>\n",
       "      <th>97</th>\n",
       "      <td>17</td>\n",
       "      <td>23</td>\n",
       "    </tr>\n",
       "    <tr>\n",
       "      <th>98</th>\n",
       "      <td>11</td>\n",
       "      <td>23</td>\n",
       "    </tr>\n",
       "    <tr>\n",
       "      <th>99</th>\n",
       "      <td>17</td>\n",
       "      <td>23</td>\n",
       "    </tr>\n",
       "  </tbody>\n",
       "</table>\n",
       "<p>100 rows × 2 columns</p>\n",
       "</div>"
      ],
      "text/plain": [
       "    State  Education\n",
       "0      25         34\n",
       "1      17         27\n",
       "2      11         27\n",
       "3      17         27\n",
       "4      17         34\n",
       "..    ...        ...\n",
       "95     25         27\n",
       "96     25         16\n",
       "97     17         23\n",
       "98     11         23\n",
       "99     17         23\n",
       "\n",
       "[100 rows x 2 columns]"
      ]
     },
     "execution_count": 85,
     "metadata": {},
     "output_type": "execute_result"
    }
   ],
   "source": [
    "# Fit and transform the dataset\n",
    "encoder.fit_transform(df)\n",
    "\n",
    "#print(encoded_df.head(25))"
   ]
  },
  {
   "cell_type": "code",
   "execution_count": 86,
   "metadata": {
    "colab": {
     "base_uri": "https://localhost:8080/"
    },
    "id": "vLK_RwgXnhHZ",
    "outputId": "03785564-c1e0-48b1-b340-b553aa2a4500"
   },
   "outputs": [
    {
     "data": {
      "text/plain": [
       "{'State': State\n",
       " Delhi          25\n",
       " Tamil Nadu     19\n",
       " Telangana      17\n",
       " nan            17\n",
       " Maharashtra    11\n",
       " Karnataka      11\n",
       " Name: count, dtype: int64,\n",
       " 'Education': Education\n",
       " PG             34\n",
       " High School    27\n",
       " nan            23\n",
       " UG             16\n",
       " Name: count, dtype: int64}"
      ]
     },
     "execution_count": 86,
     "metadata": {},
     "output_type": "execute_result"
    }
   ],
   "source": [
    "encoder.mapping"
   ]
  },
  {
   "cell_type": "code",
   "execution_count": 87,
   "metadata": {
    "colab": {
     "base_uri": "https://localhost:8080/",
     "height": 373
    },
    "id": "FUJDEICMquiA",
    "outputId": "dcc6c89c-b79d-4b4a-b8c6-ec24fe7a9810"
   },
   "outputs": [
    {
     "ename": "ValueError",
     "evalue": "Missing data found in column State at transform time.",
     "output_type": "error",
     "traceback": [
      "\u001b[31m---------------------------------------------------------------------------\u001b[39m",
      "\u001b[31mValueError\u001b[39m                                Traceback (most recent call last)",
      "\u001b[36mCell\u001b[39m\u001b[36m \u001b[39m\u001b[32mIn[87]\u001b[39m\u001b[32m, line 3\u001b[39m\n\u001b[32m      1\u001b[39m new_data = pd.DataFrame({\u001b[33m'\u001b[39m\u001b[33mState\u001b[39m\u001b[33m'\u001b[39m: [\u001b[33m'\u001b[39m\u001b[33mBihar\u001b[39m\u001b[33m'\u001b[39m], \u001b[33m'\u001b[39m\u001b[33mEducation\u001b[39m\u001b[33m'\u001b[39m: [\u001b[33m'\u001b[39m\u001b[33mUG\u001b[39m\u001b[33m'\u001b[39m]})\n\u001b[32m----> \u001b[39m\u001b[32m3\u001b[39m \u001b[43mencoder\u001b[49m\u001b[43m.\u001b[49m\u001b[43mtransform\u001b[49m\u001b[43m(\u001b[49m\u001b[43mnew_data\u001b[49m\u001b[43m)\u001b[49m\n",
      "\u001b[36mFile \u001b[39m\u001b[32m~\\AppData\\Local\\Programs\\Python\\Python313\\Lib\\site-packages\\sklearn\\utils\\_set_output.py:316\u001b[39m, in \u001b[36m_wrap_method_output.<locals>.wrapped\u001b[39m\u001b[34m(self, X, *args, **kwargs)\u001b[39m\n\u001b[32m    314\u001b[39m \u001b[38;5;129m@wraps\u001b[39m(f)\n\u001b[32m    315\u001b[39m \u001b[38;5;28;01mdef\u001b[39;00m\u001b[38;5;250m \u001b[39m\u001b[34mwrapped\u001b[39m(\u001b[38;5;28mself\u001b[39m, X, *args, **kwargs):\n\u001b[32m--> \u001b[39m\u001b[32m316\u001b[39m     data_to_wrap = \u001b[43mf\u001b[49m\u001b[43m(\u001b[49m\u001b[38;5;28;43mself\u001b[39;49m\u001b[43m,\u001b[49m\u001b[43m \u001b[49m\u001b[43mX\u001b[49m\u001b[43m,\u001b[49m\u001b[43m \u001b[49m\u001b[43m*\u001b[49m\u001b[43margs\u001b[49m\u001b[43m,\u001b[49m\u001b[43m \u001b[49m\u001b[43m*\u001b[49m\u001b[43m*\u001b[49m\u001b[43mkwargs\u001b[49m\u001b[43m)\u001b[49m\n\u001b[32m    317\u001b[39m     \u001b[38;5;28;01mif\u001b[39;00m \u001b[38;5;28misinstance\u001b[39m(data_to_wrap, \u001b[38;5;28mtuple\u001b[39m):\n\u001b[32m    318\u001b[39m         \u001b[38;5;66;03m# only wrap the first output for cross decomposition\u001b[39;00m\n\u001b[32m    319\u001b[39m         return_tuple = (\n\u001b[32m    320\u001b[39m             _wrap_data_with_container(method, data_to_wrap[\u001b[32m0\u001b[39m], X, \u001b[38;5;28mself\u001b[39m),\n\u001b[32m    321\u001b[39m             *data_to_wrap[\u001b[32m1\u001b[39m:],\n\u001b[32m    322\u001b[39m         )\n",
      "\u001b[36mFile \u001b[39m\u001b[32m~\\AppData\\Local\\Programs\\Python\\Python313\\Lib\\site-packages\\category_encoders\\utils.py:671\u001b[39m, in \u001b[36mUnsupervisedTransformerMixin.transform\u001b[39m\u001b[34m(self, X, override_return_df)\u001b[39m\n\u001b[32m    668\u001b[39m \u001b[38;5;28;01mif\u001b[39;00m \u001b[38;5;129;01mnot\u001b[39;00m \u001b[38;5;28mlist\u001b[39m(\u001b[38;5;28mself\u001b[39m.cols):\n\u001b[32m    669\u001b[39m     \u001b[38;5;28;01mreturn\u001b[39;00m X\n\u001b[32m--> \u001b[39m\u001b[32m671\u001b[39m X = \u001b[38;5;28;43mself\u001b[39;49m\u001b[43m.\u001b[49m\u001b[43m_transform\u001b[49m\u001b[43m(\u001b[49m\u001b[43mX\u001b[49m\u001b[43m)\u001b[49m\n\u001b[32m    672\u001b[39m \u001b[38;5;28;01mreturn\u001b[39;00m \u001b[38;5;28mself\u001b[39m._drop_invariants(X, override_return_df)\n",
      "\u001b[36mFile \u001b[39m\u001b[32m~\\AppData\\Local\\Programs\\Python\\Python313\\Lib\\site-packages\\category_encoders\\count.py:183\u001b[39m, in \u001b[36mCountEncoder._transform\u001b[39m\u001b[34m(self, X)\u001b[39m\n\u001b[32m    180\u001b[39m         X[col] = X[col].replace(np.nan, \u001b[32m0\u001b[39m)\n\u001b[32m    182\u001b[39m     \u001b[38;5;28;01melif\u001b[39;00m \u001b[38;5;28mself\u001b[39m._handle_unknown[col] == \u001b[33m'\u001b[39m\u001b[33merror\u001b[39m\u001b[33m'\u001b[39m \u001b[38;5;129;01mand\u001b[39;00m X[col].isna().any():\n\u001b[32m--> \u001b[39m\u001b[32m183\u001b[39m         \u001b[38;5;28;01mraise\u001b[39;00m \u001b[38;5;167;01mValueError\u001b[39;00m(\u001b[33mf\u001b[39m\u001b[33m'\u001b[39m\u001b[33mMissing data found in column \u001b[39m\u001b[38;5;132;01m{\u001b[39;00mcol\u001b[38;5;132;01m}\u001b[39;00m\u001b[33m at transform time.\u001b[39m\u001b[33m'\u001b[39m)\n\u001b[32m    184\u001b[39m \u001b[38;5;28;01mreturn\u001b[39;00m X\n",
      "\u001b[31mValueError\u001b[39m: Missing data found in column State at transform time."
     ]
    }
   ],
   "source": [
    "new_data = pd.DataFrame({'State': ['Bihar'], 'Education': ['UG']})\n",
    "\n",
    "encoder.transform(new_data)"
   ]
  },
  {
   "cell_type": "code",
   "execution_count": 90,
   "metadata": {
    "colab": {
     "base_uri": "https://localhost:8080/",
     "height": 363
    },
    "id": "qUbUb3yDrdLh",
    "outputId": "c77a96f8-fd6f-497d-cef1-e31c34432c9b"
   },
   "outputs": [
    {
     "data": {
      "text/html": [
       "<div>\n",
       "<style scoped>\n",
       "    .dataframe tbody tr th:only-of-type {\n",
       "        vertical-align: middle;\n",
       "    }\n",
       "\n",
       "    .dataframe tbody tr th {\n",
       "        vertical-align: top;\n",
       "    }\n",
       "\n",
       "    .dataframe thead th {\n",
       "        text-align: right;\n",
       "    }\n",
       "</style>\n",
       "<table border=\"1\" class=\"dataframe\">\n",
       "  <thead>\n",
       "    <tr style=\"text-align: right;\">\n",
       "      <th></th>\n",
       "      <th>Category</th>\n",
       "      <th>Value</th>\n",
       "    </tr>\n",
       "  </thead>\n",
       "  <tbody>\n",
       "    <tr>\n",
       "      <th>91</th>\n",
       "      <td>C</td>\n",
       "      <td>0.209844</td>\n",
       "    </tr>\n",
       "    <tr>\n",
       "      <th>29</th>\n",
       "      <td>B</td>\n",
       "      <td>0.290078</td>\n",
       "    </tr>\n",
       "    <tr>\n",
       "      <th>2</th>\n",
       "      <td>C</td>\n",
       "      <td>0.735194</td>\n",
       "    </tr>\n",
       "    <tr>\n",
       "      <th>50</th>\n",
       "      <td>C</td>\n",
       "      <td>0.149448</td>\n",
       "    </tr>\n",
       "    <tr>\n",
       "      <th>44</th>\n",
       "      <td>C</td>\n",
       "      <td>0.806194</td>\n",
       "    </tr>\n",
       "    <tr>\n",
       "      <th>78</th>\n",
       "      <td>A</td>\n",
       "      <td>0.704414</td>\n",
       "    </tr>\n",
       "    <tr>\n",
       "      <th>33</th>\n",
       "      <td>C</td>\n",
       "      <td>0.298282</td>\n",
       "    </tr>\n",
       "    <tr>\n",
       "      <th>65</th>\n",
       "      <td>B</td>\n",
       "      <td>0.855803</td>\n",
       "    </tr>\n",
       "    <tr>\n",
       "      <th>75</th>\n",
       "      <td>A</td>\n",
       "      <td>0.223925</td>\n",
       "    </tr>\n",
       "    <tr>\n",
       "      <th>45</th>\n",
       "      <td>C</td>\n",
       "      <td>0.703889</td>\n",
       "    </tr>\n",
       "  </tbody>\n",
       "</table>\n",
       "</div>"
      ],
      "text/plain": [
       "   Category     Value\n",
       "91        C  0.209844\n",
       "29        B  0.290078\n",
       "2         C  0.735194\n",
       "50        C  0.149448\n",
       "44        C  0.806194\n",
       "78        A  0.704414\n",
       "33        C  0.298282\n",
       "65        B  0.855803\n",
       "75        A  0.223925\n",
       "45        C  0.703889"
      ]
     },
     "execution_count": 90,
     "metadata": {},
     "output_type": "execute_result"
    }
   ],
   "source": [
    "np.random.seed(0)  # For reproducibility\n",
    "data = {\n",
    "    'Category': np.random.choice(['A', 'B', 'C', 'D', 'E', 'F', np.nan], size=100, p=[0.3, 0.25, 0.15, 0.15, 0.05, 0.05, 0.05]),\n",
    "    'Value': np.random.rand(100)\n",
    "}\n",
    "\n",
    "df = pd.DataFrame(data)\n",
    "\n",
    "df.sample(10)\n"
   ]
  },
  {
   "cell_type": "code",
   "execution_count": 91,
   "metadata": {
    "colab": {
     "base_uri": "https://localhost:8080/",
     "height": 634
    },
    "id": "dqgaxZfWDFmE",
    "outputId": "07c3e740-0cd1-44dd-fc17-b86cb18c6424"
   },
   "outputs": [
    {
     "data": {
      "text/plain": [
       "Category\n",
       "A      34\n",
       "B      22\n",
       "C      21\n",
       "D      12\n",
       "nan     5\n",
       "F       4\n",
       "E       2\n",
       "Name: count, dtype: int64"
      ]
     },
     "execution_count": 91,
     "metadata": {},
     "output_type": "execute_result"
    }
   ],
   "source": [
    "df['Category'].value_counts()"
   ]
  },
  {
   "cell_type": "code",
   "execution_count": 92,
   "metadata": {
    "id": "J329mSRRCYBw"
   },
   "outputs": [
    {
     "name": "stdout",
     "output_type": "stream",
     "text": [
      "   Category     Value  Encoded\n",
      "0         B  0.677817       22\n",
      "1         D  0.270008       12\n",
      "2         C  0.735194       21\n",
      "3         B  0.962189       22\n",
      "4         B  0.248753       22\n",
      "5         C  0.576157       21\n",
      "6         B  0.592042       22\n",
      "7         E  0.572252       11\n",
      "8       nan  0.223082       11\n",
      "9         B  0.952749       22\n",
      "10        D  0.447125       12\n",
      "11        B  0.846409       22\n",
      "12        C  0.699479       21\n",
      "13        F  0.297437       11\n",
      "14        A  0.813798       34\n",
      "15        A  0.396506       34\n",
      "16        A  0.881103       34\n",
      "17        D  0.581273       12\n",
      "18        D  0.881735       12\n",
      "19        E  0.692532       11\n"
     ]
    }
   ],
   "source": [
    "encoder = ce.CountEncoder(\n",
    "    cols=['Category'],\n",
    "    min_group_size=10,  # Groups with counts less than 5 will be combined\n",
    "    min_group_name='salman',  # Use default naming for combined minimum groups\n",
    ")\n",
    "\n",
    "# Fit and transform the dataset\n",
    "encoded_df = encoder.fit_transform(df['Category'])\n",
    "\n",
    "# Display the original and encoded data for comparison\n",
    "df['Encoded'] = encoded_df\n",
    "print(df.head(20))"
   ]
  },
  {
   "cell_type": "code",
   "execution_count": 93,
   "metadata": {
    "id": "o29K_XhFDA0r"
   },
   "outputs": [
    {
     "data": {
      "text/plain": [
       "{'Category': Category\n",
       " A         34\n",
       " B         22\n",
       " C         21\n",
       " D         12\n",
       " salman    11\n",
       " Name: count, dtype: int64}"
      ]
     },
     "execution_count": 93,
     "metadata": {},
     "output_type": "execute_result"
    }
   ],
   "source": [
    "encoder.mapping"
   ]
  },
  {
   "cell_type": "markdown",
   "metadata": {
    "id": "R5A0dJdcHt3z"
   },
   "source": [
    "### Binary Encoder"
   ]
  },
  {
   "cell_type": "code",
   "execution_count": 94,
   "metadata": {
    "id": "2JYLIF0lDey7"
   },
   "outputs": [
    {
     "data": {
      "text/html": [
       "<div>\n",
       "<style scoped>\n",
       "    .dataframe tbody tr th:only-of-type {\n",
       "        vertical-align: middle;\n",
       "    }\n",
       "\n",
       "    .dataframe tbody tr th {\n",
       "        vertical-align: top;\n",
       "    }\n",
       "\n",
       "    .dataframe thead th {\n",
       "        text-align: right;\n",
       "    }\n",
       "</style>\n",
       "<table border=\"1\" class=\"dataframe\">\n",
       "  <thead>\n",
       "    <tr style=\"text-align: right;\">\n",
       "      <th></th>\n",
       "      <th>Item</th>\n",
       "      <th>Fruit</th>\n",
       "    </tr>\n",
       "  </thead>\n",
       "  <tbody>\n",
       "    <tr>\n",
       "      <th>0</th>\n",
       "      <td>Item1</td>\n",
       "      <td>Apple</td>\n",
       "    </tr>\n",
       "    <tr>\n",
       "      <th>1</th>\n",
       "      <td>Item2</td>\n",
       "      <td>Banana</td>\n",
       "    </tr>\n",
       "    <tr>\n",
       "      <th>2</th>\n",
       "      <td>Item3</td>\n",
       "      <td>Cherry</td>\n",
       "    </tr>\n",
       "    <tr>\n",
       "      <th>3</th>\n",
       "      <td>Item4</td>\n",
       "      <td>Date</td>\n",
       "    </tr>\n",
       "    <tr>\n",
       "      <th>4</th>\n",
       "      <td>Item5</td>\n",
       "      <td>Elderberry</td>\n",
       "    </tr>\n",
       "    <tr>\n",
       "      <th>5</th>\n",
       "      <td>Item6</td>\n",
       "      <td>Fig</td>\n",
       "    </tr>\n",
       "    <tr>\n",
       "      <th>6</th>\n",
       "      <td>Item7</td>\n",
       "      <td>Grape</td>\n",
       "    </tr>\n",
       "    <tr>\n",
       "      <th>7</th>\n",
       "      <td>Item8</td>\n",
       "      <td>Honeydew</td>\n",
       "    </tr>\n",
       "  </tbody>\n",
       "</table>\n",
       "</div>"
      ],
      "text/plain": [
       "    Item       Fruit\n",
       "0  Item1       Apple\n",
       "1  Item2      Banana\n",
       "2  Item3      Cherry\n",
       "3  Item4        Date\n",
       "4  Item5  Elderberry\n",
       "5  Item6         Fig\n",
       "6  Item7       Grape\n",
       "7  Item8    Honeydew"
      ]
     },
     "execution_count": 94,
     "metadata": {},
     "output_type": "execute_result"
    }
   ],
   "source": [
    "import pandas as pd\n",
    "import category_encoders as ce\n",
    "\n",
    "# Sample dataset\n",
    "data = {\n",
    "    'Item': ['Item1', 'Item2', 'Item3', 'Item4', 'Item5', 'Item6', 'Item7', 'Item8'],\n",
    "    'Fruit': ['Apple', 'Banana', 'Cherry', 'Date', 'Elderberry', 'Fig', 'Grape', 'Honeydew']\n",
    "}\n",
    "df = pd.DataFrame(data)\n",
    "\n",
    "df\n"
   ]
  },
  {
   "cell_type": "code",
   "execution_count": 95,
   "metadata": {
    "id": "MpDmdiDzKw5f"
   },
   "outputs": [
    {
     "name": "stdout",
     "output_type": "stream",
     "text": [
      "    Item  Fruit_0  Fruit_1  Fruit_2  Fruit_3\n",
      "0  Item1        0        0        0        1\n",
      "1  Item2        0        0        1        0\n",
      "2  Item3        0        0        1        1\n",
      "3  Item4        0        1        0        0\n",
      "4  Item5        0        1        0        1\n",
      "5  Item6        0        1        1        0\n",
      "6  Item7        0        1        1        1\n",
      "7  Item8        1        0        0        0\n"
     ]
    }
   ],
   "source": [
    "# Initialize the Binary Encoder\n",
    "encoder = ce.BinaryEncoder(cols=['Fruit'], return_df=True)\n",
    "\n",
    "# Fit and transform the data\n",
    "df_encoded = encoder.fit_transform(df)\n",
    "\n",
    "# Display the original and encoded data\n",
    "print(df_encoded)"
   ]
  },
  {
   "cell_type": "markdown",
   "metadata": {
    "id": "_TJ7g103LT-c"
   },
   "source": [
    "### Target Encoder"
   ]
  },
  {
   "cell_type": "code",
   "execution_count": 96,
   "metadata": {
    "id": "iZHeT2zEK4hZ"
   },
   "outputs": [
    {
     "name": "stdout",
     "output_type": "stream",
     "text": [
      "   Feature  Target   Feature\n",
      "0        A       1  0.631436\n",
      "1        B       0  0.579948\n",
      "2        A       0  0.631436\n",
      "3        B       1  0.579948\n",
      "4        C       1  0.678194\n",
      "5        A       1  0.631436\n",
      "6        B       0  0.579948\n",
      "7        C       1  0.678194\n"
     ]
    }
   ],
   "source": [
    "# using category_encoder\n",
    "\n",
    "import pandas as pd\n",
    "import category_encoders as ce\n",
    "\n",
    "# Sample data\n",
    "data = {\n",
    "    'Feature': ['A', 'B', 'A', 'B', 'C', 'A', 'B', 'C'],\n",
    "    'Target': [1, 0, 0, 1, 1, 1, 0, 1]\n",
    "}\n",
    "df = pd.DataFrame(data)\n",
    "\n",
    "# Separating the feature and target columns\n",
    "X = df.drop('Target', axis=1)\n",
    "y = df['Target']\n",
    "\n",
    "# Initialize the TargetEncoder\n",
    "encoder = ce.TargetEncoder(cols=['Feature'])\n",
    "\n",
    "# Fit the encoder using the feature data and target variable\n",
    "encoder.fit(X, y)\n",
    "\n",
    "# Transform the data\n",
    "encoded = encoder.transform(X)\n",
    "\n",
    "# Show the original and encoded data\n",
    "print(pd.concat([df, encoded], axis=1))\n"
   ]
  },
  {
   "cell_type": "code",
   "execution_count": 97,
   "metadata": {
    "id": "_v_rGQRdoYqK"
   },
   "outputs": [
    {
     "data": {
      "text/plain": [
       "{'Feature': Feature\n",
       "  1    0.631436\n",
       "  2    0.579948\n",
       "  3    0.678194\n",
       " -1    0.625000\n",
       " -2    0.625000\n",
       " dtype: float64}"
      ]
     },
     "execution_count": 97,
     "metadata": {},
     "output_type": "execute_result"
    }
   ],
   "source": [
    "encoder.mapping"
   ]
  },
  {
   "cell_type": "code",
   "execution_count": null,
   "metadata": {
    "colab": {
     "base_uri": "https://localhost:8080/",
     "height": 300
    },
    "id": "wO7KviwTLWlU",
    "outputId": "aa73823c-724a-4ebd-af5b-288d71bd9ebf"
   },
   "outputs": [],
   "source": [
    "# using sklearn\n",
    "import pandas as pd\n",
    "from sklearn.preprocessing import TargetEncoder\n",
    "\n",
    "# Sample data\n",
    "data = {\n",
    "    'Feature': ['A', 'B', 'A', 'B', 'C', 'A', 'B', 'C'],\n",
    "    'Target': [1, 0, 0, 1, 1, 1, 0, 1]\n",
    "}\n",
    "df = pd.DataFrame(data)\n",
    "\n",
    "# Separating the feature and target columns\n",
    "X = df.drop('Target', axis=1)\n",
    "y = df['Target']\n",
    "\n",
    "# Initialize the TargetEncoder\n",
    "encoder = TargetEncoder(smooth=0.0)\n",
    "\n",
    "# Fit the encoder using the feature data and target variable\n",
    "encoder.fit(X, y)\n",
    "\n",
    "# Transform the data\n",
    "encoded = encoder.transform(X)\n",
    "\n",
    "encoded\n"
   ]
  },
  {
   "cell_type": "markdown",
   "metadata": {
    "id": "YqgYGRh4ts7w"
   },
   "source": [
    "### Weight of Evidence"
   ]
  },
  {
   "cell_type": "code",
   "execution_count": null,
   "metadata": {
    "colab": {
     "base_uri": "https://localhost:8080/"
    },
    "id": "Ph3u11nFMCfO",
    "outputId": "6f413511-62ea-4a4c-f760-3f68ff2d444e"
   },
   "outputs": [],
   "source": [
    "import pandas as pd\n",
    "import category_encoders as ce\n",
    "\n",
    "# Example dataset\n",
    "data = {\n",
    "    'Feature': ['A', 'B', 'A', 'C', 'B', 'A', 'C', 'B', 'A', 'C'],\n",
    "    'Target': [1, 0, 0, 1, 1, 0, 1, 0, 1, 0]\n",
    "}\n",
    "df = pd.DataFrame(data)\n",
    "\n",
    "# Define the features and target\n",
    "X = df[['Feature']]\n",
    "y = df['Target']\n",
    "\n",
    "# Initialize and fit the TargetEncoder\n",
    "encoder = ce.WOEEncoder(cols=['Feature'])\n",
    "X_encoded = encoder.fit_transform(X, y)\n",
    "\n",
    "# Display the original and encoded data\n",
    "df['Feature_Encoded'] = X_encoded\n",
    "print(df)\n"
   ]
  },
  {
   "cell_type": "code",
   "execution_count": null,
   "metadata": {
    "id": "KmP4GQQatweu"
   },
   "outputs": [],
   "source": []
  },
  {
   "cell_type": "code",
   "execution_count": null,
   "metadata": {},
   "outputs": [],
   "source": []
  },
  {
   "cell_type": "code",
   "execution_count": null,
   "metadata": {},
   "outputs": [],
   "source": []
  },
  {
   "cell_type": "code",
   "execution_count": null,
   "metadata": {},
   "outputs": [],
   "source": []
  }
 ],
 "metadata": {
  "colab": {
   "provenance": []
  },
  "kernelspec": {
   "display_name": "Python 3 (ipykernel)",
   "language": "python",
   "name": "python3"
  },
  "language_info": {
   "codemirror_mode": {
    "name": "ipython",
    "version": 3
   },
   "file_extension": ".py",
   "mimetype": "text/x-python",
   "name": "python",
   "nbconvert_exporter": "python",
   "pygments_lexer": "ipython3",
   "version": "3.13.7"
  }
 },
 "nbformat": 4,
 "nbformat_minor": 4
}
